{
 "cells": [
  {
   "cell_type": "code",
   "execution_count": 67,
   "metadata": {},
   "outputs": [],
   "source": [
    "import numpy as np\n",
    "import pandas as pd\n",
    "from sklearn.model_selection import train_test_split, KFold\n",
    "from sklearn.metrics import roc_auc_score\n",
    "from lightgbm import LGBMClassifier\n",
    "import optuna\n",
    "import shap\n",
    "import matplotlib.pyplot as plt"
   ]
  },
  {
   "cell_type": "markdown",
   "metadata": {},
   "source": [
    "## Load data"
   ]
  },
  {
   "cell_type": "code",
   "execution_count": 2,
   "metadata": {},
   "outputs": [],
   "source": [
    "df = pd.read_csv(\"../data/train.csv\", index_col=\"PassengerId\")"
   ]
  },
  {
   "cell_type": "code",
   "execution_count": 3,
   "metadata": {},
   "outputs": [
    {
     "data": {
      "text/html": [
       "<div>\n",
       "<style scoped>\n",
       "    .dataframe tbody tr th:only-of-type {\n",
       "        vertical-align: middle;\n",
       "    }\n",
       "\n",
       "    .dataframe tbody tr th {\n",
       "        vertical-align: top;\n",
       "    }\n",
       "\n",
       "    .dataframe thead th {\n",
       "        text-align: right;\n",
       "    }\n",
       "</style>\n",
       "<table border=\"1\" class=\"dataframe\">\n",
       "  <thead>\n",
       "    <tr style=\"text-align: right;\">\n",
       "      <th></th>\n",
       "      <th>Survived</th>\n",
       "      <th>Pclass</th>\n",
       "      <th>Name</th>\n",
       "      <th>Sex</th>\n",
       "      <th>Age</th>\n",
       "      <th>SibSp</th>\n",
       "      <th>Parch</th>\n",
       "      <th>Ticket</th>\n",
       "      <th>Fare</th>\n",
       "      <th>Cabin</th>\n",
       "      <th>Embarked</th>\n",
       "    </tr>\n",
       "    <tr>\n",
       "      <th>PassengerId</th>\n",
       "      <th></th>\n",
       "      <th></th>\n",
       "      <th></th>\n",
       "      <th></th>\n",
       "      <th></th>\n",
       "      <th></th>\n",
       "      <th></th>\n",
       "      <th></th>\n",
       "      <th></th>\n",
       "      <th></th>\n",
       "      <th></th>\n",
       "    </tr>\n",
       "  </thead>\n",
       "  <tbody>\n",
       "    <tr>\n",
       "      <th>1</th>\n",
       "      <td>0</td>\n",
       "      <td>3</td>\n",
       "      <td>Braund, Mr. Owen Harris</td>\n",
       "      <td>male</td>\n",
       "      <td>22.0</td>\n",
       "      <td>1</td>\n",
       "      <td>0</td>\n",
       "      <td>A/5 21171</td>\n",
       "      <td>7.2500</td>\n",
       "      <td>NaN</td>\n",
       "      <td>S</td>\n",
       "    </tr>\n",
       "    <tr>\n",
       "      <th>2</th>\n",
       "      <td>1</td>\n",
       "      <td>1</td>\n",
       "      <td>Cumings, Mrs. John Bradley (Florence Briggs Th...</td>\n",
       "      <td>female</td>\n",
       "      <td>38.0</td>\n",
       "      <td>1</td>\n",
       "      <td>0</td>\n",
       "      <td>PC 17599</td>\n",
       "      <td>71.2833</td>\n",
       "      <td>C85</td>\n",
       "      <td>C</td>\n",
       "    </tr>\n",
       "    <tr>\n",
       "      <th>3</th>\n",
       "      <td>1</td>\n",
       "      <td>3</td>\n",
       "      <td>Heikkinen, Miss. Laina</td>\n",
       "      <td>female</td>\n",
       "      <td>26.0</td>\n",
       "      <td>0</td>\n",
       "      <td>0</td>\n",
       "      <td>STON/O2. 3101282</td>\n",
       "      <td>7.9250</td>\n",
       "      <td>NaN</td>\n",
       "      <td>S</td>\n",
       "    </tr>\n",
       "    <tr>\n",
       "      <th>4</th>\n",
       "      <td>1</td>\n",
       "      <td>1</td>\n",
       "      <td>Futrelle, Mrs. Jacques Heath (Lily May Peel)</td>\n",
       "      <td>female</td>\n",
       "      <td>35.0</td>\n",
       "      <td>1</td>\n",
       "      <td>0</td>\n",
       "      <td>113803</td>\n",
       "      <td>53.1000</td>\n",
       "      <td>C123</td>\n",
       "      <td>S</td>\n",
       "    </tr>\n",
       "    <tr>\n",
       "      <th>5</th>\n",
       "      <td>0</td>\n",
       "      <td>3</td>\n",
       "      <td>Allen, Mr. William Henry</td>\n",
       "      <td>male</td>\n",
       "      <td>35.0</td>\n",
       "      <td>0</td>\n",
       "      <td>0</td>\n",
       "      <td>373450</td>\n",
       "      <td>8.0500</td>\n",
       "      <td>NaN</td>\n",
       "      <td>S</td>\n",
       "    </tr>\n",
       "  </tbody>\n",
       "</table>\n",
       "</div>"
      ],
      "text/plain": [
       "             Survived  Pclass  \\\n",
       "PassengerId                     \n",
       "1                   0       3   \n",
       "2                   1       1   \n",
       "3                   1       3   \n",
       "4                   1       1   \n",
       "5                   0       3   \n",
       "\n",
       "                                                          Name     Sex   Age  \\\n",
       "PassengerId                                                                    \n",
       "1                                      Braund, Mr. Owen Harris    male  22.0   \n",
       "2            Cumings, Mrs. John Bradley (Florence Briggs Th...  female  38.0   \n",
       "3                                       Heikkinen, Miss. Laina  female  26.0   \n",
       "4                 Futrelle, Mrs. Jacques Heath (Lily May Peel)  female  35.0   \n",
       "5                                     Allen, Mr. William Henry    male  35.0   \n",
       "\n",
       "             SibSp  Parch            Ticket     Fare Cabin Embarked  \n",
       "PassengerId                                                          \n",
       "1                1      0         A/5 21171   7.2500   NaN        S  \n",
       "2                1      0          PC 17599  71.2833   C85        C  \n",
       "3                0      0  STON/O2. 3101282   7.9250   NaN        S  \n",
       "4                1      0            113803  53.1000  C123        S  \n",
       "5                0      0            373450   8.0500   NaN        S  "
      ]
     },
     "execution_count": 3,
     "metadata": {},
     "output_type": "execute_result"
    }
   ],
   "source": [
    "df.head()"
   ]
  },
  {
   "cell_type": "markdown",
   "metadata": {},
   "source": [
    "## EDA"
   ]
  },
  {
   "cell_type": "code",
   "execution_count": 4,
   "metadata": {},
   "outputs": [
    {
     "data": {
      "text/html": [
       "<div>\n",
       "<style scoped>\n",
       "    .dataframe tbody tr th:only-of-type {\n",
       "        vertical-align: middle;\n",
       "    }\n",
       "\n",
       "    .dataframe tbody tr th {\n",
       "        vertical-align: top;\n",
       "    }\n",
       "\n",
       "    .dataframe thead th {\n",
       "        text-align: right;\n",
       "    }\n",
       "</style>\n",
       "<table border=\"1\" class=\"dataframe\">\n",
       "  <thead>\n",
       "    <tr style=\"text-align: right;\">\n",
       "      <th></th>\n",
       "      <th>Survived</th>\n",
       "      <th>Pclass</th>\n",
       "      <th>Age</th>\n",
       "      <th>SibSp</th>\n",
       "      <th>Parch</th>\n",
       "      <th>Fare</th>\n",
       "    </tr>\n",
       "  </thead>\n",
       "  <tbody>\n",
       "    <tr>\n",
       "      <th>count</th>\n",
       "      <td>891.000000</td>\n",
       "      <td>891.000000</td>\n",
       "      <td>714.000000</td>\n",
       "      <td>891.000000</td>\n",
       "      <td>891.000000</td>\n",
       "      <td>891.000000</td>\n",
       "    </tr>\n",
       "    <tr>\n",
       "      <th>mean</th>\n",
       "      <td>0.383838</td>\n",
       "      <td>2.308642</td>\n",
       "      <td>29.699118</td>\n",
       "      <td>0.523008</td>\n",
       "      <td>0.381594</td>\n",
       "      <td>32.204208</td>\n",
       "    </tr>\n",
       "    <tr>\n",
       "      <th>std</th>\n",
       "      <td>0.486592</td>\n",
       "      <td>0.836071</td>\n",
       "      <td>14.526497</td>\n",
       "      <td>1.102743</td>\n",
       "      <td>0.806057</td>\n",
       "      <td>49.693429</td>\n",
       "    </tr>\n",
       "    <tr>\n",
       "      <th>min</th>\n",
       "      <td>0.000000</td>\n",
       "      <td>1.000000</td>\n",
       "      <td>0.420000</td>\n",
       "      <td>0.000000</td>\n",
       "      <td>0.000000</td>\n",
       "      <td>0.000000</td>\n",
       "    </tr>\n",
       "    <tr>\n",
       "      <th>25%</th>\n",
       "      <td>0.000000</td>\n",
       "      <td>2.000000</td>\n",
       "      <td>20.125000</td>\n",
       "      <td>0.000000</td>\n",
       "      <td>0.000000</td>\n",
       "      <td>7.910400</td>\n",
       "    </tr>\n",
       "    <tr>\n",
       "      <th>50%</th>\n",
       "      <td>0.000000</td>\n",
       "      <td>3.000000</td>\n",
       "      <td>28.000000</td>\n",
       "      <td>0.000000</td>\n",
       "      <td>0.000000</td>\n",
       "      <td>14.454200</td>\n",
       "    </tr>\n",
       "    <tr>\n",
       "      <th>75%</th>\n",
       "      <td>1.000000</td>\n",
       "      <td>3.000000</td>\n",
       "      <td>38.000000</td>\n",
       "      <td>1.000000</td>\n",
       "      <td>0.000000</td>\n",
       "      <td>31.000000</td>\n",
       "    </tr>\n",
       "    <tr>\n",
       "      <th>max</th>\n",
       "      <td>1.000000</td>\n",
       "      <td>3.000000</td>\n",
       "      <td>80.000000</td>\n",
       "      <td>8.000000</td>\n",
       "      <td>6.000000</td>\n",
       "      <td>512.329200</td>\n",
       "    </tr>\n",
       "  </tbody>\n",
       "</table>\n",
       "</div>"
      ],
      "text/plain": [
       "         Survived      Pclass         Age       SibSp       Parch        Fare\n",
       "count  891.000000  891.000000  714.000000  891.000000  891.000000  891.000000\n",
       "mean     0.383838    2.308642   29.699118    0.523008    0.381594   32.204208\n",
       "std      0.486592    0.836071   14.526497    1.102743    0.806057   49.693429\n",
       "min      0.000000    1.000000    0.420000    0.000000    0.000000    0.000000\n",
       "25%      0.000000    2.000000   20.125000    0.000000    0.000000    7.910400\n",
       "50%      0.000000    3.000000   28.000000    0.000000    0.000000   14.454200\n",
       "75%      1.000000    3.000000   38.000000    1.000000    0.000000   31.000000\n",
       "max      1.000000    3.000000   80.000000    8.000000    6.000000  512.329200"
      ]
     },
     "execution_count": 4,
     "metadata": {},
     "output_type": "execute_result"
    }
   ],
   "source": [
    "# checking numeric variables\n",
    "df.describe()"
   ]
  },
  {
   "cell_type": "code",
   "execution_count": 5,
   "metadata": {},
   "outputs": [
    {
     "data": {
      "text/html": [
       "<div>\n",
       "<style scoped>\n",
       "    .dataframe tbody tr th:only-of-type {\n",
       "        vertical-align: middle;\n",
       "    }\n",
       "\n",
       "    .dataframe tbody tr th {\n",
       "        vertical-align: top;\n",
       "    }\n",
       "\n",
       "    .dataframe thead th {\n",
       "        text-align: right;\n",
       "    }\n",
       "</style>\n",
       "<table border=\"1\" class=\"dataframe\">\n",
       "  <thead>\n",
       "    <tr style=\"text-align: right;\">\n",
       "      <th></th>\n",
       "      <th>Name</th>\n",
       "      <th>Sex</th>\n",
       "      <th>Ticket</th>\n",
       "      <th>Cabin</th>\n",
       "      <th>Embarked</th>\n",
       "    </tr>\n",
       "  </thead>\n",
       "  <tbody>\n",
       "    <tr>\n",
       "      <th>count</th>\n",
       "      <td>891</td>\n",
       "      <td>891</td>\n",
       "      <td>891</td>\n",
       "      <td>204</td>\n",
       "      <td>889</td>\n",
       "    </tr>\n",
       "    <tr>\n",
       "      <th>unique</th>\n",
       "      <td>891</td>\n",
       "      <td>2</td>\n",
       "      <td>681</td>\n",
       "      <td>147</td>\n",
       "      <td>3</td>\n",
       "    </tr>\n",
       "    <tr>\n",
       "      <th>top</th>\n",
       "      <td>Braund, Mr. Owen Harris</td>\n",
       "      <td>male</td>\n",
       "      <td>347082</td>\n",
       "      <td>B96 B98</td>\n",
       "      <td>S</td>\n",
       "    </tr>\n",
       "    <tr>\n",
       "      <th>freq</th>\n",
       "      <td>1</td>\n",
       "      <td>577</td>\n",
       "      <td>7</td>\n",
       "      <td>4</td>\n",
       "      <td>644</td>\n",
       "    </tr>\n",
       "  </tbody>\n",
       "</table>\n",
       "</div>"
      ],
      "text/plain": [
       "                           Name   Sex  Ticket    Cabin Embarked\n",
       "count                       891   891     891      204      889\n",
       "unique                      891     2     681      147        3\n",
       "top     Braund, Mr. Owen Harris  male  347082  B96 B98        S\n",
       "freq                          1   577       7        4      644"
      ]
     },
     "execution_count": 5,
     "metadata": {},
     "output_type": "execute_result"
    }
   ],
   "source": [
    "# checking non-numeric variables, how many distinct values they have\n",
    "df.describe(include=\"O\")"
   ]
  },
  {
   "cell_type": "code",
   "execution_count": 6,
   "metadata": {},
   "outputs": [
    {
     "data": {
      "text/plain": [
       "Survived      0\n",
       "Pclass        0\n",
       "Name          0\n",
       "Sex           0\n",
       "Age         177\n",
       "SibSp         0\n",
       "Parch         0\n",
       "Ticket        0\n",
       "Fare          0\n",
       "Cabin       687\n",
       "Embarked      2\n",
       "dtype: int64"
      ]
     },
     "execution_count": 6,
     "metadata": {},
     "output_type": "execute_result"
    }
   ],
   "source": [
    "# check how many missing values are there\n",
    "df.isnull().sum()"
   ]
  },
  {
   "cell_type": "code",
   "execution_count": 54,
   "metadata": {},
   "outputs": [],
   "source": [
    "TARGET = \"Survived\"\n",
    "NUM_FEATURES = df.select_dtypes(\"number\").drop(TARGET, axis=1).columns.tolist()\n",
    "CAT_FEATURES = [\"Sex\", \"Embarked\"]\n",
    "FEATURES = NUM_FEATURES + CAT_FEATURES"
   ]
  },
  {
   "cell_type": "code",
   "execution_count": 8,
   "metadata": {},
   "outputs": [],
   "source": [
    "df[CAT_FEATURES] = df[CAT_FEATURES].astype(\"category\")"
   ]
  },
  {
   "cell_type": "markdown",
   "metadata": {},
   "source": [
    "## Split data"
   ]
  },
  {
   "cell_type": "code",
   "execution_count": 9,
   "metadata": {},
   "outputs": [],
   "source": [
    "df_train, df_test = train_test_split(df, test_size=0.2, random_state=23)"
   ]
  },
  {
   "cell_type": "code",
   "execution_count": 10,
   "metadata": {},
   "outputs": [
    {
     "data": {
      "text/plain": [
       "((712, 11), (179, 11))"
      ]
     },
     "execution_count": 10,
     "metadata": {},
     "output_type": "execute_result"
    }
   ],
   "source": [
    "df_train.shape, df_test.shape"
   ]
  },
  {
   "cell_type": "markdown",
   "metadata": {},
   "source": [
    "## Hyperparameter tuning"
   ]
  },
  {
   "cell_type": "code",
   "execution_count": 11,
   "metadata": {},
   "outputs": [
    {
     "name": "stderr",
     "output_type": "stream",
     "text": [
      "[I 2025-01-13 15:38:54,766] A new study created in RDB with name: no-name-5b4f4813-b403-4e83-b8cd-d13960dd4395\n"
     ]
    }
   ],
   "source": [
    "try:\n",
    "    study = optuna.load_study(storage=\"sqlite:///optuna.db\")\n",
    "except:\n",
    "    study = optuna.create_study(direction=\"maximize\", storage=\"sqlite:///optuna.db\", pruner=optuna.pruners.HyperbandPruner())"
   ]
  },
  {
   "cell_type": "code",
   "execution_count": 12,
   "metadata": {},
   "outputs": [],
   "source": [
    "def objective(trial):\n",
    "    params = {\n",
    "        \"n_estimators\": trial.suggest_int(\"n_estimators\", 50, 500),\n",
    "        \"learning_rate\": trial.suggest_float(\"learning_rate\", 0.00001, 0.5, log=True),\n",
    "        \"max_depth\": trial.suggest_int(\"max_depth\", 2, 40),\n",
    "        \"num_leaves\": trial.suggest_int(\"num_leaves\", 2, 256),\n",
    "        \"min_child_samples\": trial.suggest_int(\"min_child_samples\", 1, 100),\n",
    "        \"subsample\": trial.suggest_float(\"subsample\", 0.1, 1.0),\n",
    "        \"colsample_bytree\": trial.suggest_float(\"colsample_bytree\", 0.1, 1.0),\n",
    "        \"verbose\": -1,\n",
    "        \"random_state\": 23,\n",
    "    }\n",
    "\n",
    "    aucs = []\n",
    "    for i, (train_idx, val_idx) in enumerate(KFold(n_splits=5, random_state=23, shuffle=True).split(df_train)):\n",
    "        train, val = df.iloc[train_idx], df.iloc[val_idx]\n",
    "\n",
    "        model = LGBMClassifier(**params)\n",
    "        model.fit(train[FEATURES], train[TARGET])\n",
    "        y_pred = model.predict_proba(val[FEATURES])[:, 1]\n",
    "\n",
    "        auc = roc_auc_score(val[TARGET], y_pred)\n",
    "        trial.report(auc, i)\n",
    "\n",
    "        if trial.should_prune():\n",
    "            raise optuna.TrialPruned()\n",
    "        \n",
    "        aucs.append(auc)\n",
    "\n",
    "    return sum(aucs) / len(aucs)"
   ]
  },
  {
   "cell_type": "code",
   "execution_count": 14,
   "metadata": {},
   "outputs": [
    {
     "name": "stderr",
     "output_type": "stream",
     "text": [
      "[I 2025-01-13 15:39:07,397] Trial 0 finished with value: 0.8338730628035638 and parameters: {'n_estimators': 344, 'learning_rate': 6.295064331354105e-05, 'max_depth': 8, 'num_leaves': 79, 'min_child_samples': 73, 'subsample': 0.2804713085990077, 'colsample_bytree': 0.5009222531466938}. Best is trial 0 with value: 0.8338730628035638.\n",
      "[I 2025-01-13 15:39:09,853] Trial 1 finished with value: 0.8413487012310213 and parameters: {'n_estimators': 119, 'learning_rate': 0.05563916467500372, 'max_depth': 26, 'num_leaves': 167, 'min_child_samples': 12, 'subsample': 0.9478421518600559, 'colsample_bytree': 0.9412487745181428}. Best is trial 1 with value: 0.8413487012310213.\n",
      "[I 2025-01-13 15:39:11,062] Trial 2 pruned. \n",
      "[I 2025-01-13 15:39:16,991] Trial 3 finished with value: 0.8462025967680897 and parameters: {'n_estimators': 429, 'learning_rate': 0.022498575008046227, 'max_depth': 14, 'num_leaves': 44, 'min_child_samples': 8, 'subsample': 0.8645049850751514, 'colsample_bytree': 0.2794997137633768}. Best is trial 3 with value: 0.8462025967680897.\n",
      "[I 2025-01-13 15:39:18,104] Trial 4 pruned. \n",
      "[I 2025-01-13 15:39:18,272] Trial 5 pruned. \n",
      "[I 2025-01-13 15:39:18,725] Trial 6 pruned. \n",
      "[I 2025-01-13 15:39:19,046] Trial 7 pruned. \n",
      "[I 2025-01-13 15:39:19,362] Trial 8 pruned. \n",
      "[I 2025-01-13 15:39:19,737] Trial 9 pruned. \n",
      "[I 2025-01-13 15:39:20,212] Trial 10 pruned. \n",
      "[I 2025-01-13 15:39:23,523] Trial 11 pruned. \n",
      "[I 2025-01-13 15:39:24,052] Trial 12 pruned. \n",
      "[I 2025-01-13 15:39:24,693] Trial 13 pruned. \n",
      "[I 2025-01-13 15:39:24,948] Trial 14 pruned. \n",
      "[I 2025-01-13 15:39:26,622] Trial 15 finished with value: 0.8483010004729307 and parameters: {'n_estimators': 322, 'learning_rate': 0.024406790386717284, 'max_depth': 22, 'num_leaves': 116, 'min_child_samples': 50, 'subsample': 0.5269318995930481, 'colsample_bytree': 0.6284637759436211}. Best is trial 15 with value: 0.8483010004729307.\n",
      "[I 2025-01-13 15:39:26,955] Trial 16 pruned. \n",
      "[I 2025-01-13 15:39:27,990] Trial 17 pruned. \n",
      "[I 2025-01-13 15:39:30,375] Trial 18 pruned. \n",
      "[I 2025-01-13 15:39:31,638] Trial 19 pruned. \n",
      "[I 2025-01-13 15:39:33,352] Trial 20 finished with value: 0.84489785085857 and parameters: {'n_estimators': 242, 'learning_rate': 0.00270486360600767, 'max_depth': 15, 'num_leaves': 72, 'min_child_samples': 32, 'subsample': 0.7668697767483452, 'colsample_bytree': 0.38499849127527447}. Best is trial 15 with value: 0.8483010004729307.\n",
      "[I 2025-01-13 15:39:35,054] Trial 21 finished with value: 0.8451910567601223 and parameters: {'n_estimators': 237, 'learning_rate': 0.00262960152714577, 'max_depth': 16, 'num_leaves': 74, 'min_child_samples': 31, 'subsample': 0.7965859157979901, 'colsample_bytree': 0.40831884845091027}. Best is trial 15 with value: 0.8483010004729307.\n",
      "[I 2025-01-13 15:39:36,147] Trial 22 pruned. \n",
      "[I 2025-01-13 15:39:36,946] Trial 23 pruned. \n",
      "[I 2025-01-13 15:39:37,577] Trial 24 pruned. \n",
      "[I 2025-01-13 15:39:38,900] Trial 25 pruned. \n",
      "[I 2025-01-13 15:39:39,939] Trial 26 pruned. \n",
      "[I 2025-01-13 15:39:40,848] Trial 27 pruned. \n",
      "[I 2025-01-13 15:39:41,238] Trial 28 pruned. \n",
      "[I 2025-01-13 15:39:43,821] Trial 29 finished with value: 0.8477846624309349 and parameters: {'n_estimators': 338, 'learning_rate': 0.03178638280084784, 'max_depth': 9, 'num_leaves': 82, 'min_child_samples': 30, 'subsample': 0.8983219901453524, 'colsample_bytree': 0.4889355990519477}. Best is trial 15 with value: 0.8483010004729307.\n",
      "[I 2025-01-13 15:39:45,976] Trial 30 pruned. \n",
      "[I 2025-01-13 15:39:47,862] Trial 31 pruned. \n",
      "[I 2025-01-13 15:39:48,639] Trial 32 pruned. \n",
      "[I 2025-01-13 15:39:51,604] Trial 33 finished with value: 0.8385676008765117 and parameters: {'n_estimators': 465, 'learning_rate': 0.20136962540801315, 'max_depth': 13, 'num_leaves': 35, 'min_child_samples': 36, 'subsample': 0.7830183862205538, 'colsample_bytree': 0.3831522434240663}. Best is trial 15 with value: 0.8483010004729307.\n",
      "[I 2025-01-13 15:39:55,448] Trial 34 pruned. \n",
      "[I 2025-01-13 15:40:05,200] Trial 35 pruned. \n",
      "[I 2025-01-13 15:40:06,491] Trial 36 pruned. \n",
      "[I 2025-01-13 15:40:06,781] Trial 37 pruned. \n",
      "[I 2025-01-13 15:40:07,995] Trial 38 finished with value: 0.8482865377336546 and parameters: {'n_estimators': 286, 'learning_rate': 0.1634334260431869, 'max_depth': 13, 'num_leaves': 28, 'min_child_samples': 55, 'subsample': 0.5474566525560455, 'colsample_bytree': 0.8465427592282431}. Best is trial 15 with value: 0.8483010004729307.\n",
      "[I 2025-01-13 15:40:08,874] Trial 39 pruned. \n",
      "[I 2025-01-13 15:40:09,608] Trial 40 finished with value: 0.8450842414118714 and parameters: {'n_estimators': 316, 'learning_rate': 0.2650108300769526, 'max_depth': 4, 'num_leaves': 4, 'min_child_samples': 54, 'subsample': 0.36822653174819975, 'colsample_bytree': 0.9007654118217231}. Best is trial 15 with value: 0.8483010004729307.\n",
      "[I 2025-01-13 15:40:10,254] Trial 41 pruned. \n",
      "[I 2025-01-13 15:40:10,949] Trial 42 pruned. \n",
      "[I 2025-01-13 15:40:12,251] Trial 43 pruned. \n",
      "[I 2025-01-13 15:40:12,699] Trial 44 pruned. \n",
      "[I 2025-01-13 15:40:13,056] Trial 45 pruned. \n",
      "[I 2025-01-13 15:40:17,212] Trial 46 finished with value: 0.8645558884577929 and parameters: {'n_estimators': 282, 'learning_rate': 0.006699138465008121, 'max_depth': 24, 'num_leaves': 25, 'min_child_samples': 7, 'subsample': 0.9032041349230184, 'colsample_bytree': 0.4702507579698227}. Best is trial 46 with value: 0.8645558884577929.\n",
      "[I 2025-01-13 15:40:18,455] Trial 47 pruned. \n",
      "[I 2025-01-13 15:40:28,351] Trial 48 finished with value: 0.8549964881036256 and parameters: {'n_estimators': 363, 'learning_rate': 0.008095480732521174, 'max_depth': 32, 'num_leaves': 52, 'min_child_samples': 7, 'subsample': 0.9502648539600382, 'colsample_bytree': 0.6119883679921494}. Best is trial 46 with value: 0.8645558884577929.\n",
      "[I 2025-01-13 15:40:36,256] Trial 49 pruned. \n",
      "[I 2025-01-13 15:40:37,379] Trial 50 pruned. \n",
      "[I 2025-01-13 15:40:39,568] Trial 51 pruned. \n",
      "[I 2025-01-13 15:40:44,574] Trial 52 pruned. \n",
      "[I 2025-01-13 15:40:51,829] Trial 53 finished with value: 0.8564590530131116 and parameters: {'n_estimators': 442, 'learning_rate': 0.0072520413796996796, 'max_depth': 28, 'num_leaves': 54, 'min_child_samples': 13, 'subsample': 0.8879637522854041, 'colsample_bytree': 0.6072879304443514}. Best is trial 46 with value: 0.8645558884577929.\n",
      "[I 2025-01-13 15:40:54,947] Trial 54 pruned. \n",
      "[I 2025-01-13 15:40:59,978] Trial 55 finished with value: 0.8542574334050356 and parameters: {'n_estimators': 400, 'learning_rate': 0.009162627044090089, 'max_depth': 28, 'num_leaves': 104, 'min_child_samples': 18, 'subsample': 0.9981107166627314, 'colsample_bytree': 0.5473255398322587}. Best is trial 46 with value: 0.8645558884577929.\n",
      "[I 2025-01-13 15:41:00,461] Trial 56 pruned. \n",
      "[I 2025-01-13 15:41:05,179] Trial 57 finished with value: 0.854963352117941 and parameters: {'n_estimators': 398, 'learning_rate': 0.0038436773359120852, 'max_depth': 29, 'num_leaves': 124, 'min_child_samples': 19, 'subsample': 0.9403561482074481, 'colsample_bytree': 0.54769491973557}. Best is trial 46 with value: 0.8645558884577929.\n",
      "[I 2025-01-13 15:41:09,946] Trial 58 finished with value: 0.8523841173880984 and parameters: {'n_estimators': 443, 'learning_rate': 0.0017566613266292693, 'max_depth': 26, 'num_leaves': 203, 'min_child_samples': 21, 'subsample': 0.9344753889779822, 'colsample_bytree': 0.5362557302361219}. Best is trial 46 with value: 0.8645558884577929.\n",
      "[I 2025-01-13 15:41:12,072] Trial 59 pruned. \n",
      "[I 2025-01-13 15:41:14,035] Trial 60 pruned. \n",
      "[I 2025-01-13 15:41:21,676] Trial 61 finished with value: 0.8545980459271245 and parameters: {'n_estimators': 397, 'learning_rate': 0.0036205517564401246, 'max_depth': 25, 'num_leaves': 138, 'min_child_samples': 11, 'subsample': 0.9485697941362723, 'colsample_bytree': 0.587533450733683}. Best is trial 46 with value: 0.8645558884577929.\n",
      "[I 2025-01-13 15:41:24,772] Trial 62 pruned. \n",
      "[I 2025-01-13 15:41:45,318] Trial 63 finished with value: 0.8526782381817648 and parameters: {'n_estimators': 437, 'learning_rate': 0.004796082223361688, 'max_depth': 27, 'num_leaves': 143, 'min_child_samples': 4, 'subsample': 0.9935800139514026, 'colsample_bytree': 0.5589002471679635}. Best is trial 46 with value: 0.8645558884577929.\n",
      "[I 2025-01-13 15:42:07,646] Trial 64 finished with value: 0.8520102122099512 and parameters: {'n_estimators': 474, 'learning_rate': 0.005066397278960413, 'max_depth': 27, 'num_leaves': 140, 'min_child_samples': 4, 'subsample': 0.9898172782239758, 'colsample_bytree': 0.5697505505454402}. Best is trial 46 with value: 0.8645558884577929.\n",
      "[I 2025-01-13 15:42:09,861] Trial 65 pruned. \n",
      "[I 2025-01-13 15:42:12,951] Trial 66 pruned. \n",
      "[I 2025-01-13 15:42:15,542] Trial 67 pruned. \n",
      "[I 2025-01-13 15:42:25,989] Trial 68 pruned. \n",
      "[I 2025-01-13 15:42:52,159] Trial 69 finished with value: 0.8483781625387083 and parameters: {'n_estimators': 430, 'learning_rate': 0.004876683758753808, 'max_depth': 29, 'num_leaves': 148, 'min_child_samples': 3, 'subsample': 0.8786635952240527, 'colsample_bytree': 0.5175228831577194}. Best is trial 46 with value: 0.8645558884577929.\n",
      "[I 2025-01-13 15:43:00,807] Trial 70 pruned. \n",
      "[I 2025-01-13 15:43:06,436] Trial 71 finished with value: 0.8524236860378519 and parameters: {'n_estimators': 454, 'learning_rate': 0.010172885920207517, 'max_depth': 28, 'num_leaves': 181, 'min_child_samples': 19, 'subsample': 0.9272403778832672, 'colsample_bytree': 0.5454217086247298}. Best is trial 46 with value: 0.8645558884577929.\n",
      "[I 2025-01-13 15:43:11,654] Trial 72 pruned. \n",
      "[I 2025-01-13 15:43:16,059] Trial 73 pruned. \n",
      "[I 2025-01-13 15:43:19,056] Trial 74 pruned. \n",
      "[I 2025-01-13 15:43:21,160] Trial 75 pruned. \n",
      "[I 2025-01-13 15:43:22,881] Trial 76 pruned. \n",
      "[I 2025-01-13 15:43:26,004] Trial 77 pruned. \n",
      "[I 2025-01-13 15:43:28,166] Trial 78 pruned. \n",
      "[I 2025-01-13 15:43:36,045] Trial 79 pruned. \n",
      "[I 2025-01-13 15:43:38,164] Trial 80 pruned. \n",
      "[I 2025-01-13 15:43:43,170] Trial 81 finished with value: 0.8544591585335807 and parameters: {'n_estimators': 445, 'learning_rate': 0.0016283430127374276, 'max_depth': 25, 'num_leaves': 187, 'min_child_samples': 20, 'subsample': 0.9355610263894505, 'colsample_bytree': 0.5379238793001646}. Best is trial 46 with value: 0.8645558884577929.\n",
      "[I 2025-01-13 15:43:44,685] Trial 82 pruned. \n",
      "[I 2025-01-13 15:43:47,586] Trial 83 pruned. \n",
      "[I 2025-01-13 15:43:49,003] Trial 84 pruned. \n",
      "[I 2025-01-13 15:43:52,244] Trial 85 pruned. \n",
      "[I 2025-01-13 15:43:56,202] Trial 86 pruned. \n",
      "[I 2025-01-13 15:44:01,290] Trial 87 finished with value: 0.8551501137501271 and parameters: {'n_estimators': 405, 'learning_rate': 0.007373527193699684, 'max_depth': 27, 'num_leaves': 256, 'min_child_samples': 18, 'subsample': 0.9300084141673518, 'colsample_bytree': 0.5932937769449372}. Best is trial 46 with value: 0.8645558884577929.\n",
      "[I 2025-01-13 15:44:13,754] Trial 88 finished with value: 0.8578886193104704 and parameters: {'n_estimators': 384, 'learning_rate': 0.0037271347156232924, 'max_depth': 27, 'num_leaves': 248, 'min_child_samples': 6, 'subsample': 0.8398005023878244, 'colsample_bytree': 0.5873794996045213}. Best is trial 46 with value: 0.8645558884577929.\n",
      "[I 2025-01-13 15:44:16,368] Trial 89 pruned. \n",
      "[I 2025-01-13 15:44:21,645] Trial 90 finished with value: 0.8532297957581424 and parameters: {'n_estimators': 391, 'learning_rate': 0.007224083358595596, 'max_depth': 31, 'num_leaves': 243, 'min_child_samples': 16, 'subsample': 0.8986675530649633, 'colsample_bytree': 0.6829704136338162}. Best is trial 46 with value: 0.8645558884577929.\n",
      "[I 2025-01-13 15:44:23,792] Trial 91 pruned. \n",
      "[I 2025-01-13 15:44:33,249] Trial 92 finished with value: 0.8459067982627102 and parameters: {'n_estimators': 405, 'learning_rate': 0.0071618905799641355, 'max_depth': 29, 'num_leaves': 245, 'min_child_samples': 9, 'subsample': 0.832900233969011, 'colsample_bytree': 0.6728308322381771}. Best is trial 46 with value: 0.8645558884577929.\n",
      "[I 2025-01-13 15:44:37,960] Trial 93 pruned. \n",
      "[I 2025-01-13 15:44:42,882] Trial 94 finished with value: 0.8530812572542672 and parameters: {'n_estimators': 347, 'learning_rate': 0.0014778565144751437, 'max_depth': 33, 'num_leaves': 244, 'min_child_samples': 15, 'subsample': 0.872686846849215, 'colsample_bytree': 0.76181730509668}. Best is trial 46 with value: 0.8645558884577929.\n",
      "[I 2025-01-13 15:44:45,862] Trial 95 pruned. \n",
      "[I 2025-01-13 15:44:47,062] Trial 96 pruned. \n",
      "[I 2025-01-13 15:44:51,741] Trial 97 finished with value: 0.8549503979914423 and parameters: {'n_estimators': 375, 'learning_rate': 0.007835014510913596, 'max_depth': 26, 'num_leaves': 238, 'min_child_samples': 18, 'subsample': 0.1632085128045253, 'colsample_bytree': 0.5880537172939732}. Best is trial 46 with value: 0.8645558884577929.\n",
      "[I 2025-01-13 15:44:53,522] Trial 98 pruned. \n",
      "[I 2025-01-13 15:45:08,941] Trial 99 pruned. \n"
     ]
    }
   ],
   "source": [
    "study.optimize(objective, n_trials=100)"
   ]
  },
  {
   "cell_type": "code",
   "execution_count": 15,
   "metadata": {},
   "outputs": [
    {
     "data": {
      "application/vnd.plotly.v1+json": {
       "config": {
        "plotlyServerURL": "https://plot.ly"
       },
       "data": [
        {
         "dimensions": [
          {
           "label": "Objective Value",
           "range": [
            0.8338730628035638,
            0.8645558884577929
           ],
           "values": [
            0.8338730628035638,
            0.8413487012310213,
            0.8462025967680897,
            0.8483010004729307,
            0.84489785085857,
            0.8451910567601223,
            0.8477846624309349,
            0.8385676008765117,
            0.8482865377336546,
            0.8450842414118714,
            0.8645558884577929,
            0.8549964881036256,
            0.8564590530131116,
            0.8542574334050356,
            0.854963352117941,
            0.8523841173880984,
            0.8545980459271245,
            0.8526782381817648,
            0.8520102122099512,
            0.8483781625387083,
            0.8524236860378519,
            0.8544591585335807,
            0.8551501137501271,
            0.8578886193104704,
            0.8532297957581424,
            0.8459067982627102,
            0.8530812572542672,
            0.8549503979914423
           ]
          },
          {
           "label": "colsample_bytree",
           "range": [
            0.2794997137633768,
            0.9412487745181428
           ],
           "values": [
            0.5009222531466938,
            0.9412487745181428,
            0.2794997137633768,
            0.6284637759436211,
            0.38499849127527447,
            0.40831884845091027,
            0.4889355990519477,
            0.3831522434240663,
            0.8465427592282431,
            0.9007654118217231,
            0.4702507579698227,
            0.6119883679921494,
            0.6072879304443514,
            0.5473255398322587,
            0.54769491973557,
            0.5362557302361219,
            0.587533450733683,
            0.5589002471679635,
            0.5697505505454402,
            0.5175228831577194,
            0.5454217086247298,
            0.5379238793001646,
            0.5932937769449372,
            0.5873794996045213,
            0.6829704136338162,
            0.6728308322381771,
            0.76181730509668,
            0.5880537172939732
           ]
          },
          {
           "label": "learning_rate",
           "range": [
            -4.200999827333824,
            -0.576736377585641
           ],
           "ticktext": [
            "6.3e-05",
            "0.0001",
            "0.001",
            "0.01",
            "0.1",
            "0.265"
           ],
           "tickvals": [
            -4.200999827333824,
            -4,
            -3,
            -2,
            -1,
            -0.576736377585641
           ],
           "values": [
            -4.200999827333824,
            -1.2546193988050756,
            -1.6478449879215453,
            -1.6124893286937172,
            -2.5678546295044318,
            -2.580110056709065,
            -1.4977588907392687,
            -0.6960060378168801,
            -0.7866591151139101,
            -0.576736377585641,
            -2.1739810456500854,
            -2.091757356511332,
            -2.139539726512,
            -2.037979990613869,
            -2.4152530770686598,
            -2.755311959707666,
            -2.441225239821121,
            -2.3191133800256147,
            -2.2953007582297498,
            -2.311875406450923,
            -1.9925558256980802,
            -2.7882541050685807,
            -2.1323247137261627,
            -2.428624909581962,
            -2.1412172513477596,
            -2.144972318465249,
            -2.8303677296737164,
            -2.1059601948553954
           ]
          },
          {
           "label": "max_depth",
           "range": [
            4,
            33
           ],
           "values": [
            8,
            26,
            14,
            22,
            15,
            16,
            9,
            13,
            13,
            4,
            24,
            32,
            28,
            28,
            29,
            26,
            25,
            27,
            27,
            29,
            28,
            25,
            27,
            27,
            31,
            29,
            33,
            26
           ]
          },
          {
           "label": "min_child_samples",
           "range": [
            3,
            73
           ],
           "values": [
            73,
            12,
            8,
            50,
            32,
            31,
            30,
            36,
            55,
            54,
            7,
            7,
            13,
            18,
            19,
            21,
            11,
            4,
            4,
            3,
            19,
            20,
            18,
            6,
            16,
            9,
            15,
            18
           ]
          },
          {
           "label": "n_estimators",
           "range": [
            119,
            474
           ],
           "values": [
            344,
            119,
            429,
            322,
            242,
            237,
            338,
            465,
            286,
            316,
            282,
            363,
            442,
            400,
            398,
            443,
            397,
            437,
            474,
            430,
            454,
            445,
            405,
            384,
            391,
            405,
            347,
            375
           ]
          },
          {
           "label": "num_leaves",
           "range": [
            4,
            256
           ],
           "values": [
            79,
            167,
            44,
            116,
            72,
            74,
            82,
            35,
            28,
            4,
            25,
            52,
            54,
            104,
            124,
            203,
            138,
            143,
            140,
            148,
            181,
            187,
            256,
            248,
            243,
            245,
            244,
            238
           ]
          },
          {
           "label": "subsample",
           "range": [
            0.1632085128045253,
            0.9981107166627314
           ],
           "values": [
            0.2804713085990077,
            0.9478421518600559,
            0.8645049850751514,
            0.5269318995930481,
            0.7668697767483452,
            0.7965859157979901,
            0.8983219901453524,
            0.7830183862205538,
            0.5474566525560455,
            0.36822653174819975,
            0.9032041349230184,
            0.9502648539600382,
            0.8879637522854041,
            0.9981107166627314,
            0.9403561482074481,
            0.9344753889779822,
            0.9485697941362723,
            0.9935800139514026,
            0.9898172782239758,
            0.8786635952240527,
            0.9272403778832672,
            0.9355610263894505,
            0.9300084141673518,
            0.8398005023878244,
            0.8986675530649633,
            0.832900233969011,
            0.872686846849215,
            0.1632085128045253
           ]
          }
         ],
         "labelangle": 30,
         "labelside": "bottom",
         "line": {
          "color": [
           0.8338730628035638,
           0.8413487012310213,
           0.8462025967680897,
           0.8483010004729307,
           0.84489785085857,
           0.8451910567601223,
           0.8477846624309349,
           0.8385676008765117,
           0.8482865377336546,
           0.8450842414118714,
           0.8645558884577929,
           0.8549964881036256,
           0.8564590530131116,
           0.8542574334050356,
           0.854963352117941,
           0.8523841173880984,
           0.8545980459271245,
           0.8526782381817648,
           0.8520102122099512,
           0.8483781625387083,
           0.8524236860378519,
           0.8544591585335807,
           0.8551501137501271,
           0.8578886193104704,
           0.8532297957581424,
           0.8459067982627102,
           0.8530812572542672,
           0.8549503979914423
          ],
          "colorbar": {
           "title": {
            "text": "Objective Value"
           }
          },
          "colorscale": [
           [
            0,
            "rgb(247,251,255)"
           ],
           [
            0.125,
            "rgb(222,235,247)"
           ],
           [
            0.25,
            "rgb(198,219,239)"
           ],
           [
            0.375,
            "rgb(158,202,225)"
           ],
           [
            0.5,
            "rgb(107,174,214)"
           ],
           [
            0.625,
            "rgb(66,146,198)"
           ],
           [
            0.75,
            "rgb(33,113,181)"
           ],
           [
            0.875,
            "rgb(8,81,156)"
           ],
           [
            1,
            "rgb(8,48,107)"
           ]
          ],
          "reversescale": false,
          "showscale": true
         },
         "type": "parcoords"
        }
       ],
       "layout": {
        "template": {
         "data": {
          "bar": [
           {
            "error_x": {
             "color": "#2a3f5f"
            },
            "error_y": {
             "color": "#2a3f5f"
            },
            "marker": {
             "line": {
              "color": "#E5ECF6",
              "width": 0.5
             },
             "pattern": {
              "fillmode": "overlay",
              "size": 10,
              "solidity": 0.2
             }
            },
            "type": "bar"
           }
          ],
          "barpolar": [
           {
            "marker": {
             "line": {
              "color": "#E5ECF6",
              "width": 0.5
             },
             "pattern": {
              "fillmode": "overlay",
              "size": 10,
              "solidity": 0.2
             }
            },
            "type": "barpolar"
           }
          ],
          "carpet": [
           {
            "aaxis": {
             "endlinecolor": "#2a3f5f",
             "gridcolor": "white",
             "linecolor": "white",
             "minorgridcolor": "white",
             "startlinecolor": "#2a3f5f"
            },
            "baxis": {
             "endlinecolor": "#2a3f5f",
             "gridcolor": "white",
             "linecolor": "white",
             "minorgridcolor": "white",
             "startlinecolor": "#2a3f5f"
            },
            "type": "carpet"
           }
          ],
          "choropleth": [
           {
            "colorbar": {
             "outlinewidth": 0,
             "ticks": ""
            },
            "type": "choropleth"
           }
          ],
          "contour": [
           {
            "colorbar": {
             "outlinewidth": 0,
             "ticks": ""
            },
            "colorscale": [
             [
              0,
              "#0d0887"
             ],
             [
              0.1111111111111111,
              "#46039f"
             ],
             [
              0.2222222222222222,
              "#7201a8"
             ],
             [
              0.3333333333333333,
              "#9c179e"
             ],
             [
              0.4444444444444444,
              "#bd3786"
             ],
             [
              0.5555555555555556,
              "#d8576b"
             ],
             [
              0.6666666666666666,
              "#ed7953"
             ],
             [
              0.7777777777777778,
              "#fb9f3a"
             ],
             [
              0.8888888888888888,
              "#fdca26"
             ],
             [
              1,
              "#f0f921"
             ]
            ],
            "type": "contour"
           }
          ],
          "contourcarpet": [
           {
            "colorbar": {
             "outlinewidth": 0,
             "ticks": ""
            },
            "type": "contourcarpet"
           }
          ],
          "heatmap": [
           {
            "colorbar": {
             "outlinewidth": 0,
             "ticks": ""
            },
            "colorscale": [
             [
              0,
              "#0d0887"
             ],
             [
              0.1111111111111111,
              "#46039f"
             ],
             [
              0.2222222222222222,
              "#7201a8"
             ],
             [
              0.3333333333333333,
              "#9c179e"
             ],
             [
              0.4444444444444444,
              "#bd3786"
             ],
             [
              0.5555555555555556,
              "#d8576b"
             ],
             [
              0.6666666666666666,
              "#ed7953"
             ],
             [
              0.7777777777777778,
              "#fb9f3a"
             ],
             [
              0.8888888888888888,
              "#fdca26"
             ],
             [
              1,
              "#f0f921"
             ]
            ],
            "type": "heatmap"
           }
          ],
          "heatmapgl": [
           {
            "colorbar": {
             "outlinewidth": 0,
             "ticks": ""
            },
            "colorscale": [
             [
              0,
              "#0d0887"
             ],
             [
              0.1111111111111111,
              "#46039f"
             ],
             [
              0.2222222222222222,
              "#7201a8"
             ],
             [
              0.3333333333333333,
              "#9c179e"
             ],
             [
              0.4444444444444444,
              "#bd3786"
             ],
             [
              0.5555555555555556,
              "#d8576b"
             ],
             [
              0.6666666666666666,
              "#ed7953"
             ],
             [
              0.7777777777777778,
              "#fb9f3a"
             ],
             [
              0.8888888888888888,
              "#fdca26"
             ],
             [
              1,
              "#f0f921"
             ]
            ],
            "type": "heatmapgl"
           }
          ],
          "histogram": [
           {
            "marker": {
             "pattern": {
              "fillmode": "overlay",
              "size": 10,
              "solidity": 0.2
             }
            },
            "type": "histogram"
           }
          ],
          "histogram2d": [
           {
            "colorbar": {
             "outlinewidth": 0,
             "ticks": ""
            },
            "colorscale": [
             [
              0,
              "#0d0887"
             ],
             [
              0.1111111111111111,
              "#46039f"
             ],
             [
              0.2222222222222222,
              "#7201a8"
             ],
             [
              0.3333333333333333,
              "#9c179e"
             ],
             [
              0.4444444444444444,
              "#bd3786"
             ],
             [
              0.5555555555555556,
              "#d8576b"
             ],
             [
              0.6666666666666666,
              "#ed7953"
             ],
             [
              0.7777777777777778,
              "#fb9f3a"
             ],
             [
              0.8888888888888888,
              "#fdca26"
             ],
             [
              1,
              "#f0f921"
             ]
            ],
            "type": "histogram2d"
           }
          ],
          "histogram2dcontour": [
           {
            "colorbar": {
             "outlinewidth": 0,
             "ticks": ""
            },
            "colorscale": [
             [
              0,
              "#0d0887"
             ],
             [
              0.1111111111111111,
              "#46039f"
             ],
             [
              0.2222222222222222,
              "#7201a8"
             ],
             [
              0.3333333333333333,
              "#9c179e"
             ],
             [
              0.4444444444444444,
              "#bd3786"
             ],
             [
              0.5555555555555556,
              "#d8576b"
             ],
             [
              0.6666666666666666,
              "#ed7953"
             ],
             [
              0.7777777777777778,
              "#fb9f3a"
             ],
             [
              0.8888888888888888,
              "#fdca26"
             ],
             [
              1,
              "#f0f921"
             ]
            ],
            "type": "histogram2dcontour"
           }
          ],
          "mesh3d": [
           {
            "colorbar": {
             "outlinewidth": 0,
             "ticks": ""
            },
            "type": "mesh3d"
           }
          ],
          "parcoords": [
           {
            "line": {
             "colorbar": {
              "outlinewidth": 0,
              "ticks": ""
             }
            },
            "type": "parcoords"
           }
          ],
          "pie": [
           {
            "automargin": true,
            "type": "pie"
           }
          ],
          "scatter": [
           {
            "fillpattern": {
             "fillmode": "overlay",
             "size": 10,
             "solidity": 0.2
            },
            "type": "scatter"
           }
          ],
          "scatter3d": [
           {
            "line": {
             "colorbar": {
              "outlinewidth": 0,
              "ticks": ""
             }
            },
            "marker": {
             "colorbar": {
              "outlinewidth": 0,
              "ticks": ""
             }
            },
            "type": "scatter3d"
           }
          ],
          "scattercarpet": [
           {
            "marker": {
             "colorbar": {
              "outlinewidth": 0,
              "ticks": ""
             }
            },
            "type": "scattercarpet"
           }
          ],
          "scattergeo": [
           {
            "marker": {
             "colorbar": {
              "outlinewidth": 0,
              "ticks": ""
             }
            },
            "type": "scattergeo"
           }
          ],
          "scattergl": [
           {
            "marker": {
             "colorbar": {
              "outlinewidth": 0,
              "ticks": ""
             }
            },
            "type": "scattergl"
           }
          ],
          "scattermapbox": [
           {
            "marker": {
             "colorbar": {
              "outlinewidth": 0,
              "ticks": ""
             }
            },
            "type": "scattermapbox"
           }
          ],
          "scatterpolar": [
           {
            "marker": {
             "colorbar": {
              "outlinewidth": 0,
              "ticks": ""
             }
            },
            "type": "scatterpolar"
           }
          ],
          "scatterpolargl": [
           {
            "marker": {
             "colorbar": {
              "outlinewidth": 0,
              "ticks": ""
             }
            },
            "type": "scatterpolargl"
           }
          ],
          "scatterternary": [
           {
            "marker": {
             "colorbar": {
              "outlinewidth": 0,
              "ticks": ""
             }
            },
            "type": "scatterternary"
           }
          ],
          "surface": [
           {
            "colorbar": {
             "outlinewidth": 0,
             "ticks": ""
            },
            "colorscale": [
             [
              0,
              "#0d0887"
             ],
             [
              0.1111111111111111,
              "#46039f"
             ],
             [
              0.2222222222222222,
              "#7201a8"
             ],
             [
              0.3333333333333333,
              "#9c179e"
             ],
             [
              0.4444444444444444,
              "#bd3786"
             ],
             [
              0.5555555555555556,
              "#d8576b"
             ],
             [
              0.6666666666666666,
              "#ed7953"
             ],
             [
              0.7777777777777778,
              "#fb9f3a"
             ],
             [
              0.8888888888888888,
              "#fdca26"
             ],
             [
              1,
              "#f0f921"
             ]
            ],
            "type": "surface"
           }
          ],
          "table": [
           {
            "cells": {
             "fill": {
              "color": "#EBF0F8"
             },
             "line": {
              "color": "white"
             }
            },
            "header": {
             "fill": {
              "color": "#C8D4E3"
             },
             "line": {
              "color": "white"
             }
            },
            "type": "table"
           }
          ]
         },
         "layout": {
          "annotationdefaults": {
           "arrowcolor": "#2a3f5f",
           "arrowhead": 0,
           "arrowwidth": 1
          },
          "autotypenumbers": "strict",
          "coloraxis": {
           "colorbar": {
            "outlinewidth": 0,
            "ticks": ""
           }
          },
          "colorscale": {
           "diverging": [
            [
             0,
             "#8e0152"
            ],
            [
             0.1,
             "#c51b7d"
            ],
            [
             0.2,
             "#de77ae"
            ],
            [
             0.3,
             "#f1b6da"
            ],
            [
             0.4,
             "#fde0ef"
            ],
            [
             0.5,
             "#f7f7f7"
            ],
            [
             0.6,
             "#e6f5d0"
            ],
            [
             0.7,
             "#b8e186"
            ],
            [
             0.8,
             "#7fbc41"
            ],
            [
             0.9,
             "#4d9221"
            ],
            [
             1,
             "#276419"
            ]
           ],
           "sequential": [
            [
             0,
             "#0d0887"
            ],
            [
             0.1111111111111111,
             "#46039f"
            ],
            [
             0.2222222222222222,
             "#7201a8"
            ],
            [
             0.3333333333333333,
             "#9c179e"
            ],
            [
             0.4444444444444444,
             "#bd3786"
            ],
            [
             0.5555555555555556,
             "#d8576b"
            ],
            [
             0.6666666666666666,
             "#ed7953"
            ],
            [
             0.7777777777777778,
             "#fb9f3a"
            ],
            [
             0.8888888888888888,
             "#fdca26"
            ],
            [
             1,
             "#f0f921"
            ]
           ],
           "sequentialminus": [
            [
             0,
             "#0d0887"
            ],
            [
             0.1111111111111111,
             "#46039f"
            ],
            [
             0.2222222222222222,
             "#7201a8"
            ],
            [
             0.3333333333333333,
             "#9c179e"
            ],
            [
             0.4444444444444444,
             "#bd3786"
            ],
            [
             0.5555555555555556,
             "#d8576b"
            ],
            [
             0.6666666666666666,
             "#ed7953"
            ],
            [
             0.7777777777777778,
             "#fb9f3a"
            ],
            [
             0.8888888888888888,
             "#fdca26"
            ],
            [
             1,
             "#f0f921"
            ]
           ]
          },
          "colorway": [
           "#636efa",
           "#EF553B",
           "#00cc96",
           "#ab63fa",
           "#FFA15A",
           "#19d3f3",
           "#FF6692",
           "#B6E880",
           "#FF97FF",
           "#FECB52"
          ],
          "font": {
           "color": "#2a3f5f"
          },
          "geo": {
           "bgcolor": "white",
           "lakecolor": "white",
           "landcolor": "#E5ECF6",
           "showlakes": true,
           "showland": true,
           "subunitcolor": "white"
          },
          "hoverlabel": {
           "align": "left"
          },
          "hovermode": "closest",
          "mapbox": {
           "style": "light"
          },
          "paper_bgcolor": "white",
          "plot_bgcolor": "#E5ECF6",
          "polar": {
           "angularaxis": {
            "gridcolor": "white",
            "linecolor": "white",
            "ticks": ""
           },
           "bgcolor": "#E5ECF6",
           "radialaxis": {
            "gridcolor": "white",
            "linecolor": "white",
            "ticks": ""
           }
          },
          "scene": {
           "xaxis": {
            "backgroundcolor": "#E5ECF6",
            "gridcolor": "white",
            "gridwidth": 2,
            "linecolor": "white",
            "showbackground": true,
            "ticks": "",
            "zerolinecolor": "white"
           },
           "yaxis": {
            "backgroundcolor": "#E5ECF6",
            "gridcolor": "white",
            "gridwidth": 2,
            "linecolor": "white",
            "showbackground": true,
            "ticks": "",
            "zerolinecolor": "white"
           },
           "zaxis": {
            "backgroundcolor": "#E5ECF6",
            "gridcolor": "white",
            "gridwidth": 2,
            "linecolor": "white",
            "showbackground": true,
            "ticks": "",
            "zerolinecolor": "white"
           }
          },
          "shapedefaults": {
           "line": {
            "color": "#2a3f5f"
           }
          },
          "ternary": {
           "aaxis": {
            "gridcolor": "white",
            "linecolor": "white",
            "ticks": ""
           },
           "baxis": {
            "gridcolor": "white",
            "linecolor": "white",
            "ticks": ""
           },
           "bgcolor": "#E5ECF6",
           "caxis": {
            "gridcolor": "white",
            "linecolor": "white",
            "ticks": ""
           }
          },
          "title": {
           "x": 0.05
          },
          "xaxis": {
           "automargin": true,
           "gridcolor": "white",
           "linecolor": "white",
           "ticks": "",
           "title": {
            "standoff": 15
           },
           "zerolinecolor": "white",
           "zerolinewidth": 2
          },
          "yaxis": {
           "automargin": true,
           "gridcolor": "white",
           "linecolor": "white",
           "ticks": "",
           "title": {
            "standoff": 15
           },
           "zerolinecolor": "white",
           "zerolinewidth": 2
          }
         }
        },
        "title": {
         "text": "Parallel Coordinate Plot"
        }
       }
      }
     },
     "metadata": {},
     "output_type": "display_data"
    }
   ],
   "source": [
    "optuna.visualization.plot_parallel_coordinate(study)"
   ]
  },
  {
   "cell_type": "markdown",
   "metadata": {},
   "source": [
    "## Train"
   ]
  },
  {
   "cell_type": "code",
   "execution_count": 16,
   "metadata": {},
   "outputs": [],
   "source": [
    "model = LGBMClassifier(**study.best_params, verbose=-1, random_state=23)"
   ]
  },
  {
   "cell_type": "code",
   "execution_count": 17,
   "metadata": {},
   "outputs": [
    {
     "data": {
      "text/html": [
       "<style>#sk-container-id-1 {\n",
       "  /* Definition of color scheme common for light and dark mode */\n",
       "  --sklearn-color-text: #000;\n",
       "  --sklearn-color-text-muted: #666;\n",
       "  --sklearn-color-line: gray;\n",
       "  /* Definition of color scheme for unfitted estimators */\n",
       "  --sklearn-color-unfitted-level-0: #fff5e6;\n",
       "  --sklearn-color-unfitted-level-1: #f6e4d2;\n",
       "  --sklearn-color-unfitted-level-2: #ffe0b3;\n",
       "  --sklearn-color-unfitted-level-3: chocolate;\n",
       "  /* Definition of color scheme for fitted estimators */\n",
       "  --sklearn-color-fitted-level-0: #f0f8ff;\n",
       "  --sklearn-color-fitted-level-1: #d4ebff;\n",
       "  --sklearn-color-fitted-level-2: #b3dbfd;\n",
       "  --sklearn-color-fitted-level-3: cornflowerblue;\n",
       "\n",
       "  /* Specific color for light theme */\n",
       "  --sklearn-color-text-on-default-background: var(--sg-text-color, var(--theme-code-foreground, var(--jp-content-font-color1, black)));\n",
       "  --sklearn-color-background: var(--sg-background-color, var(--theme-background, var(--jp-layout-color0, white)));\n",
       "  --sklearn-color-border-box: var(--sg-text-color, var(--theme-code-foreground, var(--jp-content-font-color1, black)));\n",
       "  --sklearn-color-icon: #696969;\n",
       "\n",
       "  @media (prefers-color-scheme: dark) {\n",
       "    /* Redefinition of color scheme for dark theme */\n",
       "    --sklearn-color-text-on-default-background: var(--sg-text-color, var(--theme-code-foreground, var(--jp-content-font-color1, white)));\n",
       "    --sklearn-color-background: var(--sg-background-color, var(--theme-background, var(--jp-layout-color0, #111)));\n",
       "    --sklearn-color-border-box: var(--sg-text-color, var(--theme-code-foreground, var(--jp-content-font-color1, white)));\n",
       "    --sklearn-color-icon: #878787;\n",
       "  }\n",
       "}\n",
       "\n",
       "#sk-container-id-1 {\n",
       "  color: var(--sklearn-color-text);\n",
       "}\n",
       "\n",
       "#sk-container-id-1 pre {\n",
       "  padding: 0;\n",
       "}\n",
       "\n",
       "#sk-container-id-1 input.sk-hidden--visually {\n",
       "  border: 0;\n",
       "  clip: rect(1px 1px 1px 1px);\n",
       "  clip: rect(1px, 1px, 1px, 1px);\n",
       "  height: 1px;\n",
       "  margin: -1px;\n",
       "  overflow: hidden;\n",
       "  padding: 0;\n",
       "  position: absolute;\n",
       "  width: 1px;\n",
       "}\n",
       "\n",
       "#sk-container-id-1 div.sk-dashed-wrapped {\n",
       "  border: 1px dashed var(--sklearn-color-line);\n",
       "  margin: 0 0.4em 0.5em 0.4em;\n",
       "  box-sizing: border-box;\n",
       "  padding-bottom: 0.4em;\n",
       "  background-color: var(--sklearn-color-background);\n",
       "}\n",
       "\n",
       "#sk-container-id-1 div.sk-container {\n",
       "  /* jupyter's `normalize.less` sets `[hidden] { display: none; }`\n",
       "     but bootstrap.min.css set `[hidden] { display: none !important; }`\n",
       "     so we also need the `!important` here to be able to override the\n",
       "     default hidden behavior on the sphinx rendered scikit-learn.org.\n",
       "     See: https://github.com/scikit-learn/scikit-learn/issues/21755 */\n",
       "  display: inline-block !important;\n",
       "  position: relative;\n",
       "}\n",
       "\n",
       "#sk-container-id-1 div.sk-text-repr-fallback {\n",
       "  display: none;\n",
       "}\n",
       "\n",
       "div.sk-parallel-item,\n",
       "div.sk-serial,\n",
       "div.sk-item {\n",
       "  /* draw centered vertical line to link estimators */\n",
       "  background-image: linear-gradient(var(--sklearn-color-text-on-default-background), var(--sklearn-color-text-on-default-background));\n",
       "  background-size: 2px 100%;\n",
       "  background-repeat: no-repeat;\n",
       "  background-position: center center;\n",
       "}\n",
       "\n",
       "/* Parallel-specific style estimator block */\n",
       "\n",
       "#sk-container-id-1 div.sk-parallel-item::after {\n",
       "  content: \"\";\n",
       "  width: 100%;\n",
       "  border-bottom: 2px solid var(--sklearn-color-text-on-default-background);\n",
       "  flex-grow: 1;\n",
       "}\n",
       "\n",
       "#sk-container-id-1 div.sk-parallel {\n",
       "  display: flex;\n",
       "  align-items: stretch;\n",
       "  justify-content: center;\n",
       "  background-color: var(--sklearn-color-background);\n",
       "  position: relative;\n",
       "}\n",
       "\n",
       "#sk-container-id-1 div.sk-parallel-item {\n",
       "  display: flex;\n",
       "  flex-direction: column;\n",
       "}\n",
       "\n",
       "#sk-container-id-1 div.sk-parallel-item:first-child::after {\n",
       "  align-self: flex-end;\n",
       "  width: 50%;\n",
       "}\n",
       "\n",
       "#sk-container-id-1 div.sk-parallel-item:last-child::after {\n",
       "  align-self: flex-start;\n",
       "  width: 50%;\n",
       "}\n",
       "\n",
       "#sk-container-id-1 div.sk-parallel-item:only-child::after {\n",
       "  width: 0;\n",
       "}\n",
       "\n",
       "/* Serial-specific style estimator block */\n",
       "\n",
       "#sk-container-id-1 div.sk-serial {\n",
       "  display: flex;\n",
       "  flex-direction: column;\n",
       "  align-items: center;\n",
       "  background-color: var(--sklearn-color-background);\n",
       "  padding-right: 1em;\n",
       "  padding-left: 1em;\n",
       "}\n",
       "\n",
       "\n",
       "/* Toggleable style: style used for estimator/Pipeline/ColumnTransformer box that is\n",
       "clickable and can be expanded/collapsed.\n",
       "- Pipeline and ColumnTransformer use this feature and define the default style\n",
       "- Estimators will overwrite some part of the style using the `sk-estimator` class\n",
       "*/\n",
       "\n",
       "/* Pipeline and ColumnTransformer style (default) */\n",
       "\n",
       "#sk-container-id-1 div.sk-toggleable {\n",
       "  /* Default theme specific background. It is overwritten whether we have a\n",
       "  specific estimator or a Pipeline/ColumnTransformer */\n",
       "  background-color: var(--sklearn-color-background);\n",
       "}\n",
       "\n",
       "/* Toggleable label */\n",
       "#sk-container-id-1 label.sk-toggleable__label {\n",
       "  cursor: pointer;\n",
       "  display: flex;\n",
       "  width: 100%;\n",
       "  margin-bottom: 0;\n",
       "  padding: 0.5em;\n",
       "  box-sizing: border-box;\n",
       "  text-align: center;\n",
       "  align-items: start;\n",
       "  justify-content: space-between;\n",
       "  gap: 0.5em;\n",
       "}\n",
       "\n",
       "#sk-container-id-1 label.sk-toggleable__label .caption {\n",
       "  font-size: 0.6rem;\n",
       "  font-weight: lighter;\n",
       "  color: var(--sklearn-color-text-muted);\n",
       "}\n",
       "\n",
       "#sk-container-id-1 label.sk-toggleable__label-arrow:before {\n",
       "  /* Arrow on the left of the label */\n",
       "  content: \"▸\";\n",
       "  float: left;\n",
       "  margin-right: 0.25em;\n",
       "  color: var(--sklearn-color-icon);\n",
       "}\n",
       "\n",
       "#sk-container-id-1 label.sk-toggleable__label-arrow:hover:before {\n",
       "  color: var(--sklearn-color-text);\n",
       "}\n",
       "\n",
       "/* Toggleable content - dropdown */\n",
       "\n",
       "#sk-container-id-1 div.sk-toggleable__content {\n",
       "  max-height: 0;\n",
       "  max-width: 0;\n",
       "  overflow: hidden;\n",
       "  text-align: left;\n",
       "  /* unfitted */\n",
       "  background-color: var(--sklearn-color-unfitted-level-0);\n",
       "}\n",
       "\n",
       "#sk-container-id-1 div.sk-toggleable__content.fitted {\n",
       "  /* fitted */\n",
       "  background-color: var(--sklearn-color-fitted-level-0);\n",
       "}\n",
       "\n",
       "#sk-container-id-1 div.sk-toggleable__content pre {\n",
       "  margin: 0.2em;\n",
       "  border-radius: 0.25em;\n",
       "  color: var(--sklearn-color-text);\n",
       "  /* unfitted */\n",
       "  background-color: var(--sklearn-color-unfitted-level-0);\n",
       "}\n",
       "\n",
       "#sk-container-id-1 div.sk-toggleable__content.fitted pre {\n",
       "  /* unfitted */\n",
       "  background-color: var(--sklearn-color-fitted-level-0);\n",
       "}\n",
       "\n",
       "#sk-container-id-1 input.sk-toggleable__control:checked~div.sk-toggleable__content {\n",
       "  /* Expand drop-down */\n",
       "  max-height: 200px;\n",
       "  max-width: 100%;\n",
       "  overflow: auto;\n",
       "}\n",
       "\n",
       "#sk-container-id-1 input.sk-toggleable__control:checked~label.sk-toggleable__label-arrow:before {\n",
       "  content: \"▾\";\n",
       "}\n",
       "\n",
       "/* Pipeline/ColumnTransformer-specific style */\n",
       "\n",
       "#sk-container-id-1 div.sk-label input.sk-toggleable__control:checked~label.sk-toggleable__label {\n",
       "  color: var(--sklearn-color-text);\n",
       "  background-color: var(--sklearn-color-unfitted-level-2);\n",
       "}\n",
       "\n",
       "#sk-container-id-1 div.sk-label.fitted input.sk-toggleable__control:checked~label.sk-toggleable__label {\n",
       "  background-color: var(--sklearn-color-fitted-level-2);\n",
       "}\n",
       "\n",
       "/* Estimator-specific style */\n",
       "\n",
       "/* Colorize estimator box */\n",
       "#sk-container-id-1 div.sk-estimator input.sk-toggleable__control:checked~label.sk-toggleable__label {\n",
       "  /* unfitted */\n",
       "  background-color: var(--sklearn-color-unfitted-level-2);\n",
       "}\n",
       "\n",
       "#sk-container-id-1 div.sk-estimator.fitted input.sk-toggleable__control:checked~label.sk-toggleable__label {\n",
       "  /* fitted */\n",
       "  background-color: var(--sklearn-color-fitted-level-2);\n",
       "}\n",
       "\n",
       "#sk-container-id-1 div.sk-label label.sk-toggleable__label,\n",
       "#sk-container-id-1 div.sk-label label {\n",
       "  /* The background is the default theme color */\n",
       "  color: var(--sklearn-color-text-on-default-background);\n",
       "}\n",
       "\n",
       "/* On hover, darken the color of the background */\n",
       "#sk-container-id-1 div.sk-label:hover label.sk-toggleable__label {\n",
       "  color: var(--sklearn-color-text);\n",
       "  background-color: var(--sklearn-color-unfitted-level-2);\n",
       "}\n",
       "\n",
       "/* Label box, darken color on hover, fitted */\n",
       "#sk-container-id-1 div.sk-label.fitted:hover label.sk-toggleable__label.fitted {\n",
       "  color: var(--sklearn-color-text);\n",
       "  background-color: var(--sklearn-color-fitted-level-2);\n",
       "}\n",
       "\n",
       "/* Estimator label */\n",
       "\n",
       "#sk-container-id-1 div.sk-label label {\n",
       "  font-family: monospace;\n",
       "  font-weight: bold;\n",
       "  display: inline-block;\n",
       "  line-height: 1.2em;\n",
       "}\n",
       "\n",
       "#sk-container-id-1 div.sk-label-container {\n",
       "  text-align: center;\n",
       "}\n",
       "\n",
       "/* Estimator-specific */\n",
       "#sk-container-id-1 div.sk-estimator {\n",
       "  font-family: monospace;\n",
       "  border: 1px dotted var(--sklearn-color-border-box);\n",
       "  border-radius: 0.25em;\n",
       "  box-sizing: border-box;\n",
       "  margin-bottom: 0.5em;\n",
       "  /* unfitted */\n",
       "  background-color: var(--sklearn-color-unfitted-level-0);\n",
       "}\n",
       "\n",
       "#sk-container-id-1 div.sk-estimator.fitted {\n",
       "  /* fitted */\n",
       "  background-color: var(--sklearn-color-fitted-level-0);\n",
       "}\n",
       "\n",
       "/* on hover */\n",
       "#sk-container-id-1 div.sk-estimator:hover {\n",
       "  /* unfitted */\n",
       "  background-color: var(--sklearn-color-unfitted-level-2);\n",
       "}\n",
       "\n",
       "#sk-container-id-1 div.sk-estimator.fitted:hover {\n",
       "  /* fitted */\n",
       "  background-color: var(--sklearn-color-fitted-level-2);\n",
       "}\n",
       "\n",
       "/* Specification for estimator info (e.g. \"i\" and \"?\") */\n",
       "\n",
       "/* Common style for \"i\" and \"?\" */\n",
       "\n",
       ".sk-estimator-doc-link,\n",
       "a:link.sk-estimator-doc-link,\n",
       "a:visited.sk-estimator-doc-link {\n",
       "  float: right;\n",
       "  font-size: smaller;\n",
       "  line-height: 1em;\n",
       "  font-family: monospace;\n",
       "  background-color: var(--sklearn-color-background);\n",
       "  border-radius: 1em;\n",
       "  height: 1em;\n",
       "  width: 1em;\n",
       "  text-decoration: none !important;\n",
       "  margin-left: 0.5em;\n",
       "  text-align: center;\n",
       "  /* unfitted */\n",
       "  border: var(--sklearn-color-unfitted-level-1) 1pt solid;\n",
       "  color: var(--sklearn-color-unfitted-level-1);\n",
       "}\n",
       "\n",
       ".sk-estimator-doc-link.fitted,\n",
       "a:link.sk-estimator-doc-link.fitted,\n",
       "a:visited.sk-estimator-doc-link.fitted {\n",
       "  /* fitted */\n",
       "  border: var(--sklearn-color-fitted-level-1) 1pt solid;\n",
       "  color: var(--sklearn-color-fitted-level-1);\n",
       "}\n",
       "\n",
       "/* On hover */\n",
       "div.sk-estimator:hover .sk-estimator-doc-link:hover,\n",
       ".sk-estimator-doc-link:hover,\n",
       "div.sk-label-container:hover .sk-estimator-doc-link:hover,\n",
       ".sk-estimator-doc-link:hover {\n",
       "  /* unfitted */\n",
       "  background-color: var(--sklearn-color-unfitted-level-3);\n",
       "  color: var(--sklearn-color-background);\n",
       "  text-decoration: none;\n",
       "}\n",
       "\n",
       "div.sk-estimator.fitted:hover .sk-estimator-doc-link.fitted:hover,\n",
       ".sk-estimator-doc-link.fitted:hover,\n",
       "div.sk-label-container:hover .sk-estimator-doc-link.fitted:hover,\n",
       ".sk-estimator-doc-link.fitted:hover {\n",
       "  /* fitted */\n",
       "  background-color: var(--sklearn-color-fitted-level-3);\n",
       "  color: var(--sklearn-color-background);\n",
       "  text-decoration: none;\n",
       "}\n",
       "\n",
       "/* Span, style for the box shown on hovering the info icon */\n",
       ".sk-estimator-doc-link span {\n",
       "  display: none;\n",
       "  z-index: 9999;\n",
       "  position: relative;\n",
       "  font-weight: normal;\n",
       "  right: .2ex;\n",
       "  padding: .5ex;\n",
       "  margin: .5ex;\n",
       "  width: min-content;\n",
       "  min-width: 20ex;\n",
       "  max-width: 50ex;\n",
       "  color: var(--sklearn-color-text);\n",
       "  box-shadow: 2pt 2pt 4pt #999;\n",
       "  /* unfitted */\n",
       "  background: var(--sklearn-color-unfitted-level-0);\n",
       "  border: .5pt solid var(--sklearn-color-unfitted-level-3);\n",
       "}\n",
       "\n",
       ".sk-estimator-doc-link.fitted span {\n",
       "  /* fitted */\n",
       "  background: var(--sklearn-color-fitted-level-0);\n",
       "  border: var(--sklearn-color-fitted-level-3);\n",
       "}\n",
       "\n",
       ".sk-estimator-doc-link:hover span {\n",
       "  display: block;\n",
       "}\n",
       "\n",
       "/* \"?\"-specific style due to the `<a>` HTML tag */\n",
       "\n",
       "#sk-container-id-1 a.estimator_doc_link {\n",
       "  float: right;\n",
       "  font-size: 1rem;\n",
       "  line-height: 1em;\n",
       "  font-family: monospace;\n",
       "  background-color: var(--sklearn-color-background);\n",
       "  border-radius: 1rem;\n",
       "  height: 1rem;\n",
       "  width: 1rem;\n",
       "  text-decoration: none;\n",
       "  /* unfitted */\n",
       "  color: var(--sklearn-color-unfitted-level-1);\n",
       "  border: var(--sklearn-color-unfitted-level-1) 1pt solid;\n",
       "}\n",
       "\n",
       "#sk-container-id-1 a.estimator_doc_link.fitted {\n",
       "  /* fitted */\n",
       "  border: var(--sklearn-color-fitted-level-1) 1pt solid;\n",
       "  color: var(--sklearn-color-fitted-level-1);\n",
       "}\n",
       "\n",
       "/* On hover */\n",
       "#sk-container-id-1 a.estimator_doc_link:hover {\n",
       "  /* unfitted */\n",
       "  background-color: var(--sklearn-color-unfitted-level-3);\n",
       "  color: var(--sklearn-color-background);\n",
       "  text-decoration: none;\n",
       "}\n",
       "\n",
       "#sk-container-id-1 a.estimator_doc_link.fitted:hover {\n",
       "  /* fitted */\n",
       "  background-color: var(--sklearn-color-fitted-level-3);\n",
       "}\n",
       "</style><div id=\"sk-container-id-1\" class=\"sk-top-container\"><div class=\"sk-text-repr-fallback\"><pre>LGBMClassifier(colsample_bytree=0.4702507579698227,\n",
       "               learning_rate=0.006699138465008121, max_depth=24,\n",
       "               min_child_samples=7, n_estimators=282, num_leaves=25,\n",
       "               random_state=23, subsample=0.9032041349230184, verbose=-1)</pre><b>In a Jupyter environment, please rerun this cell to show the HTML representation or trust the notebook. <br />On GitHub, the HTML representation is unable to render, please try loading this page with nbviewer.org.</b></div><div class=\"sk-container\" hidden><div class=\"sk-item\"><div class=\"sk-estimator fitted sk-toggleable\"><input class=\"sk-toggleable__control sk-hidden--visually\" id=\"sk-estimator-id-1\" type=\"checkbox\" checked><label for=\"sk-estimator-id-1\" class=\"sk-toggleable__label fitted sk-toggleable__label-arrow\"><div><div>LGBMClassifier</div></div><div><span class=\"sk-estimator-doc-link fitted\">i<span>Fitted</span></span></div></label><div class=\"sk-toggleable__content fitted\"><pre>LGBMClassifier(colsample_bytree=0.4702507579698227,\n",
       "               learning_rate=0.006699138465008121, max_depth=24,\n",
       "               min_child_samples=7, n_estimators=282, num_leaves=25,\n",
       "               random_state=23, subsample=0.9032041349230184, verbose=-1)</pre></div> </div></div></div></div>"
      ],
      "text/plain": [
       "LGBMClassifier(colsample_bytree=0.4702507579698227,\n",
       "               learning_rate=0.006699138465008121, max_depth=24,\n",
       "               min_child_samples=7, n_estimators=282, num_leaves=25,\n",
       "               random_state=23, subsample=0.9032041349230184, verbose=-1)"
      ]
     },
     "execution_count": 17,
     "metadata": {},
     "output_type": "execute_result"
    }
   ],
   "source": [
    "model.fit(df_train[FEATURES], df_train[TARGET])"
   ]
  },
  {
   "cell_type": "markdown",
   "metadata": {},
   "source": [
    "## Evaluate"
   ]
  },
  {
   "cell_type": "code",
   "execution_count": 18,
   "metadata": {},
   "outputs": [],
   "source": [
    "df_train[\"pred\"] = model.predict_proba(df_train[FEATURES])[:, 1]\n",
    "df_test[\"pred\"] = model.predict_proba(df_test[FEATURES])[:, 1]"
   ]
  },
  {
   "cell_type": "code",
   "execution_count": 19,
   "metadata": {},
   "outputs": [
    {
     "data": {
      "text/plain": [
       "(np.float64(0.946420283128336), np.float64(0.8726902173913044))"
      ]
     },
     "execution_count": 19,
     "metadata": {},
     "output_type": "execute_result"
    }
   ],
   "source": [
    "roc_auc_score(df_train[TARGET], df_train[\"pred\"]), roc_auc_score(df_test[TARGET], df_test[\"pred\"])"
   ]
  },
  {
   "cell_type": "markdown",
   "metadata": {},
   "source": [
    "## Feature importance"
   ]
  },
  {
   "cell_type": "code",
   "execution_count": 20,
   "metadata": {},
   "outputs": [
    {
     "data": {
      "text/html": [
       "<div>\n",
       "<style scoped>\n",
       "    .dataframe tbody tr th:only-of-type {\n",
       "        vertical-align: middle;\n",
       "    }\n",
       "\n",
       "    .dataframe tbody tr th {\n",
       "        vertical-align: top;\n",
       "    }\n",
       "\n",
       "    .dataframe thead th {\n",
       "        text-align: right;\n",
       "    }\n",
       "</style>\n",
       "<table border=\"1\" class=\"dataframe\">\n",
       "  <thead>\n",
       "    <tr style=\"text-align: right;\">\n",
       "      <th></th>\n",
       "      <th>feature</th>\n",
       "      <th>importance</th>\n",
       "    </tr>\n",
       "  </thead>\n",
       "  <tbody>\n",
       "    <tr>\n",
       "      <th>5</th>\n",
       "      <td>Sex</td>\n",
       "      <td>0.383543</td>\n",
       "    </tr>\n",
       "    <tr>\n",
       "      <th>4</th>\n",
       "      <td>Fare</td>\n",
       "      <td>0.206088</td>\n",
       "    </tr>\n",
       "    <tr>\n",
       "      <th>1</th>\n",
       "      <td>Age</td>\n",
       "      <td>0.168759</td>\n",
       "    </tr>\n",
       "    <tr>\n",
       "      <th>0</th>\n",
       "      <td>Pclass</td>\n",
       "      <td>0.116859</td>\n",
       "    </tr>\n",
       "    <tr>\n",
       "      <th>2</th>\n",
       "      <td>SibSp</td>\n",
       "      <td>0.048553</td>\n",
       "    </tr>\n",
       "    <tr>\n",
       "      <th>3</th>\n",
       "      <td>Parch</td>\n",
       "      <td>0.041060</td>\n",
       "    </tr>\n",
       "    <tr>\n",
       "      <th>6</th>\n",
       "      <td>Embarked</td>\n",
       "      <td>0.035139</td>\n",
       "    </tr>\n",
       "  </tbody>\n",
       "</table>\n",
       "</div>"
      ],
      "text/plain": [
       "    feature  importance\n",
       "5       Sex    0.383543\n",
       "4      Fare    0.206088\n",
       "1       Age    0.168759\n",
       "0    Pclass    0.116859\n",
       "2     SibSp    0.048553\n",
       "3     Parch    0.041060\n",
       "6  Embarked    0.035139"
      ]
     },
     "execution_count": 20,
     "metadata": {},
     "output_type": "execute_result"
    }
   ],
   "source": [
    "feat_imp = pd.DataFrame({\n",
    "    \"feature\": model.feature_names_in_,\n",
    "    \"importance\": model.booster_.feature_importance(importance_type=\"gain\") / model.booster_.feature_importance(importance_type=\"gain\").sum()\n",
    "}).sort_values(\"importance\", ascending=False)\n",
    "\n",
    "feat_imp"
   ]
  },
  {
   "cell_type": "code",
   "execution_count": 22,
   "metadata": {},
   "outputs": [
    {
     "name": "stderr",
     "output_type": "stream",
     "text": [
      "/opt/homebrew/Caskroom/miniconda/base/envs/ds-for-beginners/lib/python3.11/site-packages/shap/explainers/_tree.py:448: UserWarning:\n",
      "\n",
      "LightGBM binary classifier with TreeExplainer shap values output has changed to a list of ndarray\n",
      "\n"
     ]
    }
   ],
   "source": [
    "explainer = shap.TreeExplainer(model)\n",
    "shap_values = explainer.shap_values(df_test[FEATURES])"
   ]
  },
  {
   "cell_type": "code",
   "execution_count": null,
   "metadata": {},
   "outputs": [
    {
     "data": {
      "image/png": "[encoded data removed]",
      "text/plain": [
       "<Figure size 800x430 with 1 Axes>"
      ]
     },
     "metadata": {},
     "output_type": "display_data"
    }
   ],
   "source": [
    "shap.summary_plot(shap_values, df_test[FEATURES], plot_type=\"bar\")"
   ]
  },
  {
   "cell_type": "code",
   "execution_count": 34,
   "metadata": {},
   "outputs": [
    {
     "data": {
      "image/png": "[encoded data removed]",
      "text/plain": [
       "<Figure size 800x430 with 2 Axes>"
      ]
     },
     "metadata": {},
     "output_type": "display_data"
    }
   ],
   "source": [
    "shap.summary_plot(shap_values, df_test[FEATURES])"
   ]
  },
  {
   "cell_type": "markdown",
   "metadata": {},
   "source": [
    "## Feature selection"
   ]
  },
  {
   "cell_type": "code",
   "execution_count": 55,
   "metadata": {},
   "outputs": [
    {
     "data": {
      "text/html": [
       "<div>\n",
       "<style scoped>\n",
       "    .dataframe tbody tr th:only-of-type {\n",
       "        vertical-align: middle;\n",
       "    }\n",
       "\n",
       "    .dataframe tbody tr th {\n",
       "        vertical-align: top;\n",
       "    }\n",
       "\n",
       "    .dataframe thead th {\n",
       "        text-align: right;\n",
       "    }\n",
       "</style>\n",
       "<table border=\"1\" class=\"dataframe\">\n",
       "  <thead>\n",
       "    <tr style=\"text-align: right;\">\n",
       "      <th></th>\n",
       "      <th>feature</th>\n",
       "      <th>importance</th>\n",
       "    </tr>\n",
       "  </thead>\n",
       "  <tbody>\n",
       "    <tr>\n",
       "      <th>5</th>\n",
       "      <td>Sex</td>\n",
       "      <td>0.601560</td>\n",
       "    </tr>\n",
       "    <tr>\n",
       "      <th>0</th>\n",
       "      <td>Pclass</td>\n",
       "      <td>0.265289</td>\n",
       "    </tr>\n",
       "    <tr>\n",
       "      <th>4</th>\n",
       "      <td>Fare</td>\n",
       "      <td>0.244975</td>\n",
       "    </tr>\n",
       "    <tr>\n",
       "      <th>1</th>\n",
       "      <td>Age</td>\n",
       "      <td>0.159478</td>\n",
       "    </tr>\n",
       "    <tr>\n",
       "      <th>6</th>\n",
       "      <td>Embarked</td>\n",
       "      <td>0.112857</td>\n",
       "    </tr>\n",
       "    <tr>\n",
       "      <th>2</th>\n",
       "      <td>SibSp</td>\n",
       "      <td>0.067164</td>\n",
       "    </tr>\n",
       "    <tr>\n",
       "      <th>3</th>\n",
       "      <td>Parch</td>\n",
       "      <td>0.052910</td>\n",
       "    </tr>\n",
       "  </tbody>\n",
       "</table>\n",
       "</div>"
      ],
      "text/plain": [
       "    feature  importance\n",
       "5       Sex    0.601560\n",
       "0    Pclass    0.265289\n",
       "4      Fare    0.244975\n",
       "1       Age    0.159478\n",
       "6  Embarked    0.112857\n",
       "2     SibSp    0.067164\n",
       "3     Parch    0.052910"
      ]
     },
     "execution_count": 55,
     "metadata": {},
     "output_type": "execute_result"
    }
   ],
   "source": [
    "feat_imp_shap = pd.DataFrame({\n",
    "    \"feature\": FEATURES,\n",
    "    \"importance\": np.abs(shap_values).mean(0)\n",
    "}).sort_values(\"importance\", ascending=False)\n",
    "\n",
    "feat_imp_shap"
   ]
  },
  {
   "cell_type": "code",
   "execution_count": 61,
   "metadata": {},
   "outputs": [
    {
     "data": {
      "text/plain": [
       "['None', 'Parch', 'SibSp', 'Embarked', 'Age', 'Fare', 'Pclass']"
      ]
     },
     "execution_count": 61,
     "metadata": {},
     "output_type": "execute_result"
    }
   ],
   "source": [
    "[\"None\"] + feat_imp_shap.sort_values(\"importance\").feature.to_list()[:-1]"
   ]
  },
  {
   "cell_type": "code",
   "execution_count": 62,
   "metadata": {},
   "outputs": [],
   "source": [
    "FEATURES_KEEPED = FEATURES.copy()\n",
    "results = {\n",
    "    \"feature_dropped\": [],\n",
    "    \"auc\": []\n",
    "}\n",
    "\n",
    "drop_ordered = [\"None\"] + feat_imp_shap.sort_values(\"importance\").feature.to_list()[:-1]\n",
    "\n",
    "for feat in drop_ordered:\n",
    "    if feat != \"None\":\n",
    "        FEATURES_KEEPED.remove(feat)\n",
    "\n",
    "    results[\"feature_dropped\"].append(feat)\n",
    "\n",
    "    model = LGBMClassifier(**study.best_params, verbose=-1, random_state=23)\n",
    "    model.fit(df_train[FEATURES_KEEPED], df_train[TARGET])\n",
    "\n",
    "    pred = model.predict_proba(df_test[FEATURES_KEEPED])[:, 1]\n",
    "    auc = roc_auc_score(df_test[TARGET], pred)\n",
    "    \n",
    "    results[\"auc\"].append(auc)\n",
    "\n",
    "results = pd.DataFrame(results)\n"
   ]
  },
  {
   "cell_type": "code",
   "execution_count": 70,
   "metadata": {},
   "outputs": [
    {
     "data": {
      "image/png": "[encoded data removed]",
      "text/plain": [
       "<Figure size 640x480 with 1 Axes>"
      ]
     },
     "metadata": {},
     "output_type": "display_data"
    }
   ],
   "source": [
    "results.plot(kind=\"bar\", x=\"feature_dropped\", y=\"auc\");\n",
    "for i, v in enumerate(results.auc):\n",
    "    plt.text(i, v, f\"{v:.3f}\", ha=\"center\", va=\"bottom\")"
   ]
  },
  {
   "cell_type": "code",
   "execution_count": null,
   "metadata": {},
   "outputs": [],
   "source": []
  }
 ],
 "metadata": {
  "kernelspec": {
   "display_name": "ds-for-beginners",
   "language": "python",
   "name": "python3"
  },
  "language_info": {
   "codemirror_mode": {
    "name": "ipython",
    "version": 3
   },
   "file_extension": ".py",
   "mimetype": "text/x-python",
   "name": "python",
   "nbconvert_exporter": "python",
   "pygments_lexer": "ipython3",
   "version": "3.11.11"
  }
 },
 "nbformat": 4,
 "nbformat_minor": 2
}
