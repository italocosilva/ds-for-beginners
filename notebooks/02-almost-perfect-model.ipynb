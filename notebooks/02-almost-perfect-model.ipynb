{
 "cells": [
  {
   "cell_type": "code",
   "execution_count": 31,
   "metadata": {},
   "outputs": [],
   "source": [
    "import pandas as pd\n",
    "from sklearn.model_selection import train_test_split, KFold\n",
    "from sklearn.metrics import roc_auc_score\n",
    "from lightgbm import LGBMClassifier\n",
    "import optuna"
   ]
  },
  {
   "cell_type": "markdown",
   "metadata": {},
   "source": [
    "## Load data"
   ]
  },
  {
   "cell_type": "code",
   "execution_count": 32,
   "metadata": {},
   "outputs": [],
   "source": [
    "df = pd.read_csv(\"../data/train.csv\", index_col=\"PassengerId\")"
   ]
  },
  {
   "cell_type": "code",
   "execution_count": 33,
   "metadata": {},
   "outputs": [
    {
     "data": {
      "text/html": [
       "<div>\n",
       "<style scoped>\n",
       "    .dataframe tbody tr th:only-of-type {\n",
       "        vertical-align: middle;\n",
       "    }\n",
       "\n",
       "    .dataframe tbody tr th {\n",
       "        vertical-align: top;\n",
       "    }\n",
       "\n",
       "    .dataframe thead th {\n",
       "        text-align: right;\n",
       "    }\n",
       "</style>\n",
       "<table border=\"1\" class=\"dataframe\">\n",
       "  <thead>\n",
       "    <tr style=\"text-align: right;\">\n",
       "      <th></th>\n",
       "      <th>Survived</th>\n",
       "      <th>Pclass</th>\n",
       "      <th>Name</th>\n",
       "      <th>Sex</th>\n",
       "      <th>Age</th>\n",
       "      <th>SibSp</th>\n",
       "      <th>Parch</th>\n",
       "      <th>Ticket</th>\n",
       "      <th>Fare</th>\n",
       "      <th>Cabin</th>\n",
       "      <th>Embarked</th>\n",
       "    </tr>\n",
       "    <tr>\n",
       "      <th>PassengerId</th>\n",
       "      <th></th>\n",
       "      <th></th>\n",
       "      <th></th>\n",
       "      <th></th>\n",
       "      <th></th>\n",
       "      <th></th>\n",
       "      <th></th>\n",
       "      <th></th>\n",
       "      <th></th>\n",
       "      <th></th>\n",
       "      <th></th>\n",
       "    </tr>\n",
       "  </thead>\n",
       "  <tbody>\n",
       "    <tr>\n",
       "      <th>1</th>\n",
       "      <td>0</td>\n",
       "      <td>3</td>\n",
       "      <td>Braund, Mr. Owen Harris</td>\n",
       "      <td>male</td>\n",
       "      <td>22.0</td>\n",
       "      <td>1</td>\n",
       "      <td>0</td>\n",
       "      <td>A/5 21171</td>\n",
       "      <td>7.2500</td>\n",
       "      <td>NaN</td>\n",
       "      <td>S</td>\n",
       "    </tr>\n",
       "    <tr>\n",
       "      <th>2</th>\n",
       "      <td>1</td>\n",
       "      <td>1</td>\n",
       "      <td>Cumings, Mrs. John Bradley (Florence Briggs Th...</td>\n",
       "      <td>female</td>\n",
       "      <td>38.0</td>\n",
       "      <td>1</td>\n",
       "      <td>0</td>\n",
       "      <td>PC 17599</td>\n",
       "      <td>71.2833</td>\n",
       "      <td>C85</td>\n",
       "      <td>C</td>\n",
       "    </tr>\n",
       "    <tr>\n",
       "      <th>3</th>\n",
       "      <td>1</td>\n",
       "      <td>3</td>\n",
       "      <td>Heikkinen, Miss. Laina</td>\n",
       "      <td>female</td>\n",
       "      <td>26.0</td>\n",
       "      <td>0</td>\n",
       "      <td>0</td>\n",
       "      <td>STON/O2. 3101282</td>\n",
       "      <td>7.9250</td>\n",
       "      <td>NaN</td>\n",
       "      <td>S</td>\n",
       "    </tr>\n",
       "    <tr>\n",
       "      <th>4</th>\n",
       "      <td>1</td>\n",
       "      <td>1</td>\n",
       "      <td>Futrelle, Mrs. Jacques Heath (Lily May Peel)</td>\n",
       "      <td>female</td>\n",
       "      <td>35.0</td>\n",
       "      <td>1</td>\n",
       "      <td>0</td>\n",
       "      <td>113803</td>\n",
       "      <td>53.1000</td>\n",
       "      <td>C123</td>\n",
       "      <td>S</td>\n",
       "    </tr>\n",
       "    <tr>\n",
       "      <th>5</th>\n",
       "      <td>0</td>\n",
       "      <td>3</td>\n",
       "      <td>Allen, Mr. William Henry</td>\n",
       "      <td>male</td>\n",
       "      <td>35.0</td>\n",
       "      <td>0</td>\n",
       "      <td>0</td>\n",
       "      <td>373450</td>\n",
       "      <td>8.0500</td>\n",
       "      <td>NaN</td>\n",
       "      <td>S</td>\n",
       "    </tr>\n",
       "  </tbody>\n",
       "</table>\n",
       "</div>"
      ],
      "text/plain": [
       "             Survived  Pclass  \\\n",
       "PassengerId                     \n",
       "1                   0       3   \n",
       "2                   1       1   \n",
       "3                   1       3   \n",
       "4                   1       1   \n",
       "5                   0       3   \n",
       "\n",
       "                                                          Name     Sex   Age  \\\n",
       "PassengerId                                                                    \n",
       "1                                      Braund, Mr. Owen Harris    male  22.0   \n",
       "2            Cumings, Mrs. John Bradley (Florence Briggs Th...  female  38.0   \n",
       "3                                       Heikkinen, Miss. Laina  female  26.0   \n",
       "4                 Futrelle, Mrs. Jacques Heath (Lily May Peel)  female  35.0   \n",
       "5                                     Allen, Mr. William Henry    male  35.0   \n",
       "\n",
       "             SibSp  Parch            Ticket     Fare Cabin Embarked  \n",
       "PassengerId                                                          \n",
       "1                1      0         A/5 21171   7.2500   NaN        S  \n",
       "2                1      0          PC 17599  71.2833   C85        C  \n",
       "3                0      0  STON/O2. 3101282   7.9250   NaN        S  \n",
       "4                1      0            113803  53.1000  C123        S  \n",
       "5                0      0            373450   8.0500   NaN        S  "
      ]
     },
     "execution_count": 33,
     "metadata": {},
     "output_type": "execute_result"
    }
   ],
   "source": [
    "df.head()"
   ]
  },
  {
   "cell_type": "markdown",
   "metadata": {},
   "source": [
    "## EDA"
   ]
  },
  {
   "cell_type": "code",
   "execution_count": 34,
   "metadata": {},
   "outputs": [
    {
     "data": {
      "text/html": [
       "<div>\n",
       "<style scoped>\n",
       "    .dataframe tbody tr th:only-of-type {\n",
       "        vertical-align: middle;\n",
       "    }\n",
       "\n",
       "    .dataframe tbody tr th {\n",
       "        vertical-align: top;\n",
       "    }\n",
       "\n",
       "    .dataframe thead th {\n",
       "        text-align: right;\n",
       "    }\n",
       "</style>\n",
       "<table border=\"1\" class=\"dataframe\">\n",
       "  <thead>\n",
       "    <tr style=\"text-align: right;\">\n",
       "      <th></th>\n",
       "      <th>Survived</th>\n",
       "      <th>Pclass</th>\n",
       "      <th>Age</th>\n",
       "      <th>SibSp</th>\n",
       "      <th>Parch</th>\n",
       "      <th>Fare</th>\n",
       "    </tr>\n",
       "  </thead>\n",
       "  <tbody>\n",
       "    <tr>\n",
       "      <th>count</th>\n",
       "      <td>891.000000</td>\n",
       "      <td>891.000000</td>\n",
       "      <td>714.000000</td>\n",
       "      <td>891.000000</td>\n",
       "      <td>891.000000</td>\n",
       "      <td>891.000000</td>\n",
       "    </tr>\n",
       "    <tr>\n",
       "      <th>mean</th>\n",
       "      <td>0.383838</td>\n",
       "      <td>2.308642</td>\n",
       "      <td>29.699118</td>\n",
       "      <td>0.523008</td>\n",
       "      <td>0.381594</td>\n",
       "      <td>32.204208</td>\n",
       "    </tr>\n",
       "    <tr>\n",
       "      <th>std</th>\n",
       "      <td>0.486592</td>\n",
       "      <td>0.836071</td>\n",
       "      <td>14.526497</td>\n",
       "      <td>1.102743</td>\n",
       "      <td>0.806057</td>\n",
       "      <td>49.693429</td>\n",
       "    </tr>\n",
       "    <tr>\n",
       "      <th>min</th>\n",
       "      <td>0.000000</td>\n",
       "      <td>1.000000</td>\n",
       "      <td>0.420000</td>\n",
       "      <td>0.000000</td>\n",
       "      <td>0.000000</td>\n",
       "      <td>0.000000</td>\n",
       "    </tr>\n",
       "    <tr>\n",
       "      <th>25%</th>\n",
       "      <td>0.000000</td>\n",
       "      <td>2.000000</td>\n",
       "      <td>20.125000</td>\n",
       "      <td>0.000000</td>\n",
       "      <td>0.000000</td>\n",
       "      <td>7.910400</td>\n",
       "    </tr>\n",
       "    <tr>\n",
       "      <th>50%</th>\n",
       "      <td>0.000000</td>\n",
       "      <td>3.000000</td>\n",
       "      <td>28.000000</td>\n",
       "      <td>0.000000</td>\n",
       "      <td>0.000000</td>\n",
       "      <td>14.454200</td>\n",
       "    </tr>\n",
       "    <tr>\n",
       "      <th>75%</th>\n",
       "      <td>1.000000</td>\n",
       "      <td>3.000000</td>\n",
       "      <td>38.000000</td>\n",
       "      <td>1.000000</td>\n",
       "      <td>0.000000</td>\n",
       "      <td>31.000000</td>\n",
       "    </tr>\n",
       "    <tr>\n",
       "      <th>max</th>\n",
       "      <td>1.000000</td>\n",
       "      <td>3.000000</td>\n",
       "      <td>80.000000</td>\n",
       "      <td>8.000000</td>\n",
       "      <td>6.000000</td>\n",
       "      <td>512.329200</td>\n",
       "    </tr>\n",
       "  </tbody>\n",
       "</table>\n",
       "</div>"
      ],
      "text/plain": [
       "         Survived      Pclass         Age       SibSp       Parch        Fare\n",
       "count  891.000000  891.000000  714.000000  891.000000  891.000000  891.000000\n",
       "mean     0.383838    2.308642   29.699118    0.523008    0.381594   32.204208\n",
       "std      0.486592    0.836071   14.526497    1.102743    0.806057   49.693429\n",
       "min      0.000000    1.000000    0.420000    0.000000    0.000000    0.000000\n",
       "25%      0.000000    2.000000   20.125000    0.000000    0.000000    7.910400\n",
       "50%      0.000000    3.000000   28.000000    0.000000    0.000000   14.454200\n",
       "75%      1.000000    3.000000   38.000000    1.000000    0.000000   31.000000\n",
       "max      1.000000    3.000000   80.000000    8.000000    6.000000  512.329200"
      ]
     },
     "execution_count": 34,
     "metadata": {},
     "output_type": "execute_result"
    }
   ],
   "source": [
    "# checking numeric variables\n",
    "df.describe()"
   ]
  },
  {
   "cell_type": "code",
   "execution_count": 35,
   "metadata": {},
   "outputs": [
    {
     "data": {
      "text/html": [
       "<div>\n",
       "<style scoped>\n",
       "    .dataframe tbody tr th:only-of-type {\n",
       "        vertical-align: middle;\n",
       "    }\n",
       "\n",
       "    .dataframe tbody tr th {\n",
       "        vertical-align: top;\n",
       "    }\n",
       "\n",
       "    .dataframe thead th {\n",
       "        text-align: right;\n",
       "    }\n",
       "</style>\n",
       "<table border=\"1\" class=\"dataframe\">\n",
       "  <thead>\n",
       "    <tr style=\"text-align: right;\">\n",
       "      <th></th>\n",
       "      <th>Name</th>\n",
       "      <th>Sex</th>\n",
       "      <th>Ticket</th>\n",
       "      <th>Cabin</th>\n",
       "      <th>Embarked</th>\n",
       "    </tr>\n",
       "  </thead>\n",
       "  <tbody>\n",
       "    <tr>\n",
       "      <th>count</th>\n",
       "      <td>891</td>\n",
       "      <td>891</td>\n",
       "      <td>891</td>\n",
       "      <td>204</td>\n",
       "      <td>889</td>\n",
       "    </tr>\n",
       "    <tr>\n",
       "      <th>unique</th>\n",
       "      <td>891</td>\n",
       "      <td>2</td>\n",
       "      <td>681</td>\n",
       "      <td>147</td>\n",
       "      <td>3</td>\n",
       "    </tr>\n",
       "    <tr>\n",
       "      <th>top</th>\n",
       "      <td>Braund, Mr. Owen Harris</td>\n",
       "      <td>male</td>\n",
       "      <td>347082</td>\n",
       "      <td>B96 B98</td>\n",
       "      <td>S</td>\n",
       "    </tr>\n",
       "    <tr>\n",
       "      <th>freq</th>\n",
       "      <td>1</td>\n",
       "      <td>577</td>\n",
       "      <td>7</td>\n",
       "      <td>4</td>\n",
       "      <td>644</td>\n",
       "    </tr>\n",
       "  </tbody>\n",
       "</table>\n",
       "</div>"
      ],
      "text/plain": [
       "                           Name   Sex  Ticket    Cabin Embarked\n",
       "count                       891   891     891      204      889\n",
       "unique                      891     2     681      147        3\n",
       "top     Braund, Mr. Owen Harris  male  347082  B96 B98        S\n",
       "freq                          1   577       7        4      644"
      ]
     },
     "execution_count": 35,
     "metadata": {},
     "output_type": "execute_result"
    }
   ],
   "source": [
    "# checking non-numeric variables, how many distinct values they have\n",
    "df.describe(include=\"O\")"
   ]
  },
  {
   "cell_type": "code",
   "execution_count": 36,
   "metadata": {},
   "outputs": [
    {
     "data": {
      "text/plain": [
       "Survived      0\n",
       "Pclass        0\n",
       "Name          0\n",
       "Sex           0\n",
       "Age         177\n",
       "SibSp         0\n",
       "Parch         0\n",
       "Ticket        0\n",
       "Fare          0\n",
       "Cabin       687\n",
       "Embarked      2\n",
       "dtype: int64"
      ]
     },
     "execution_count": 36,
     "metadata": {},
     "output_type": "execute_result"
    }
   ],
   "source": [
    "# check how many missing values are there\n",
    "df.isnull().sum()"
   ]
  },
  {
   "cell_type": "code",
   "execution_count": 37,
   "metadata": {},
   "outputs": [],
   "source": [
    "TARGET = \"Survived\"\n",
    "NUM_FEATURES = df.select_dtypes(\"number\").drop(TARGET, axis=1).columns.tolist()\n",
    "CAT_FEATURES = [\"Sex\", \"Embarked\"]\n",
    "FEATURES = NUM_FEATURES + CAT_FEATURES"
   ]
  },
  {
   "cell_type": "code",
   "execution_count": 38,
   "metadata": {},
   "outputs": [],
   "source": [
    "df[CAT_FEATURES] = df[CAT_FEATURES].astype(\"category\")"
   ]
  },
  {
   "cell_type": "markdown",
   "metadata": {},
   "source": [
    "## Split data"
   ]
  },
  {
   "cell_type": "code",
   "execution_count": 39,
   "metadata": {},
   "outputs": [],
   "source": [
    "df_train, df_test = train_test_split(df, test_size=0.2, random_state=23)"
   ]
  },
  {
   "cell_type": "code",
   "execution_count": 41,
   "metadata": {},
   "outputs": [
    {
     "data": {
      "text/plain": [
       "((712, 11), (179, 11))"
      ]
     },
     "execution_count": 41,
     "metadata": {},
     "output_type": "execute_result"
    }
   ],
   "source": [
    "df_train.shape, df_test.shape"
   ]
  },
  {
   "cell_type": "markdown",
   "metadata": {},
   "source": [
    "## Hyperparameter tuning"
   ]
  },
  {
   "cell_type": "code",
   "execution_count": 49,
   "metadata": {},
   "outputs": [
    {
     "name": "stderr",
     "output_type": "stream",
     "text": [
      "[I 2025-01-11 10:08:25,633] A new study created in RDB with name: no-name-d44c280f-087b-43cf-86d7-0e9caab7ca2f\n"
     ]
    }
   ],
   "source": [
    "study = optuna.create_study(direction=\"maximize\", storage=\"sqlite:///optuna.db\", pruner=optuna.pruners.HyperbandPruner())"
   ]
  },
  {
   "cell_type": "code",
   "execution_count": 50,
   "metadata": {},
   "outputs": [],
   "source": [
    "def objective(trial):\n",
    "    params = {\n",
    "        \"n_estimators\": trial.suggest_int(\"n_estimators\", 50, 500),\n",
    "        \"learning_rate\": trial.suggest_float(\"learning_rate\", 0.00001, 0.5, log=True),\n",
    "        \"max_depth\": trial.suggest_int(\"max_depth\", 2, 40),\n",
    "        \"num_leaves\": trial.suggest_int(\"num_leaves\", 2, 256),\n",
    "        \"min_child_samples\": trial.suggest_int(\"min_child_samples\", 1, 100),\n",
    "        \"subsample\": trial.suggest_float(\"subsample\", 0.1, 1.0),\n",
    "        \"colsample_bytree\": trial.suggest_float(\"colsample_bytree\", 0.1, 1.0),\n",
    "        \"verbose\": -1,\n",
    "        \"random_state\": 23,\n",
    "    }\n",
    "\n",
    "    aucs = []\n",
    "    for i, (train_idx, val_idx) in enumerate(KFold(n_splits=5, random_state=23, shuffle=True).split(df_train)):\n",
    "        train, val = df.iloc[train_idx], df.iloc[val_idx]\n",
    "\n",
    "        model = LGBMClassifier(**params)\n",
    "        model.fit(train[FEATURES], train[TARGET])\n",
    "        y_pred = model.predict_proba(val[FEATURES])[:, 1]\n",
    "\n",
    "        auc = roc_auc_score(val[TARGET], y_pred)\n",
    "        trial.report(auc, i)\n",
    "\n",
    "        if trial.should_prune():\n",
    "            raise optuna.TrialPruned()\n",
    "        \n",
    "        aucs.append(auc)\n",
    "\n",
    "    return sum(aucs) / len(aucs)"
   ]
  },
  {
   "cell_type": "code",
   "execution_count": 52,
   "metadata": {},
   "outputs": [
    {
     "name": "stderr",
     "output_type": "stream",
     "text": [
      "[I 2025-01-11 10:09:56,444] Trial 100 pruned. \n",
      "[I 2025-01-11 10:09:57,159] Trial 101 pruned. \n",
      "[I 2025-01-11 10:09:59,068] Trial 102 pruned. \n",
      "[I 2025-01-11 10:09:59,218] Trial 103 pruned. \n",
      "[I 2025-01-11 10:09:59,583] Trial 104 finished with value: 0.8496301855166722 and parameters: {'n_estimators': 71, 'learning_rate': 0.12054913338705231, 'max_depth': 14, 'num_leaves': 109, 'min_child_samples': 58, 'subsample': 0.9843643970882175, 'colsample_bytree': 0.7595513239058082}. Best is trial 22 with value: 0.85765229174194.\n",
      "[I 2025-01-11 10:10:00,469] Trial 105 pruned. \n",
      "[I 2025-01-11 10:10:02,206] Trial 106 finished with value: 0.8528369118435941 and parameters: {'n_estimators': 485, 'learning_rate': 0.05258018200207243, 'max_depth': 6, 'num_leaves': 138, 'min_child_samples': 67, 'subsample': 0.8588106975595923, 'colsample_bytree': 0.9832777276565996}. Best is trial 22 with value: 0.85765229174194.\n",
      "[I 2025-01-11 10:10:02,855] Trial 107 pruned. \n",
      "[I 2025-01-11 10:10:03,885] Trial 108 finished with value: 0.8445539636933119 and parameters: {'n_estimators': 90, 'learning_rate': 0.010190225468668069, 'max_depth': 6, 'num_leaves': 139, 'min_child_samples': 17, 'subsample': 0.9006995930740713, 'colsample_bytree': 0.9519807209704801}. Best is trial 22 with value: 0.85765229174194.\n",
      "[I 2025-01-11 10:10:05,485] Trial 109 finished with value: 0.8445850869320779 and parameters: {'n_estimators': 487, 'learning_rate': 0.039102204107367165, 'max_depth': 20, 'num_leaves': 219, 'min_child_samples': 75, 'subsample': 0.8018502869391009, 'colsample_bytree': 0.9822302314560529}. Best is trial 22 with value: 0.85765229174194.\n",
      "[I 2025-01-11 10:10:06,187] Trial 110 pruned. \n",
      "[I 2025-01-11 10:10:07,812] Trial 111 finished with value: 0.8474999435046415 and parameters: {'n_estimators': 471, 'learning_rate': 0.05033586269337661, 'max_depth': 16, 'num_leaves': 127, 'min_child_samples': 71, 'subsample': 0.9317814532865872, 'colsample_bytree': 0.727589301449268}. Best is trial 22 with value: 0.85765229174194.\n",
      "[I 2025-01-11 10:10:09,178] Trial 112 pruned. \n",
      "[I 2025-01-11 10:10:10,824] Trial 113 pruned. \n",
      "[I 2025-01-11 10:10:12,706] Trial 114 finished with value: 0.8524694415042827 and parameters: {'n_estimators': 493, 'learning_rate': 0.07015355991662858, 'max_depth': 5, 'num_leaves': 131, 'min_child_samples': 59, 'subsample': 0.9594834692278844, 'colsample_bytree': 0.9996876988490357}. Best is trial 22 with value: 0.85765229174194.\n",
      "[I 2025-01-11 10:10:14,488] Trial 115 finished with value: 0.8577654580493406 and parameters: {'n_estimators': 496, 'learning_rate': 0.08022065973945702, 'max_depth': 5, 'num_leaves': 134, 'min_child_samples': 65, 'subsample': 0.9622881908561005, 'colsample_bytree': 0.999347748256048}. Best is trial 115 with value: 0.8577654580493406.\n",
      "[I 2025-01-11 10:10:15,239] Trial 116 pruned. \n",
      "[I 2025-01-11 10:10:16,540] Trial 117 finished with value: 0.8531647283374234 and parameters: {'n_estimators': 494, 'learning_rate': 0.07712640177563548, 'max_depth': 3, 'num_leaves': 136, 'min_child_samples': 64, 'subsample': 0.9989574558310867, 'colsample_bytree': 0.9939600932376258}. Best is trial 115 with value: 0.8577654580493406.\n",
      "[I 2025-01-11 10:10:18,400] Trial 118 finished with value: 0.8555281993939303 and parameters: {'n_estimators': 496, 'learning_rate': 0.08114440303533113, 'max_depth': 5, 'num_leaves': 126, 'min_child_samples': 64, 'subsample': 0.9657149381932418, 'colsample_bytree': 0.9926910934048809}. Best is trial 115 with value: 0.8577654580493406.\n",
      "[I 2025-01-11 10:10:19,642] Trial 119 finished with value: 0.8520388641332687 and parameters: {'n_estimators': 466, 'learning_rate': 0.0728272005765911, 'max_depth': 3, 'num_leaves': 134, 'min_child_samples': 64, 'subsample': 0.9602984789241328, 'colsample_bytree': 0.9922137313225744}. Best is trial 115 with value: 0.8577654580493406.\n",
      "[I 2025-01-11 10:10:21,009] Trial 120 pruned. \n",
      "[I 2025-01-11 10:10:22,384] Trial 121 pruned. \n",
      "[I 2025-01-11 10:10:24,218] Trial 122 finished with value: 0.8561982541828034 and parameters: {'n_estimators': 488, 'learning_rate': 0.06393577083686158, 'max_depth': 6, 'num_leaves': 136, 'min_child_samples': 63, 'subsample': 0.9448627662991366, 'colsample_bytree': 0.9507382773149944}. Best is trial 115 with value: 0.8577654580493406.\n",
      "[I 2025-01-11 10:10:26,082] Trial 123 finished with value: 0.8565411302290595 and parameters: {'n_estimators': 492, 'learning_rate': 0.06726088594250568, 'max_depth': 6, 'num_leaves': 136, 'min_child_samples': 63, 'subsample': 0.9427836577592494, 'colsample_bytree': 0.946326701494906}. Best is trial 115 with value: 0.8577654580493406.\n",
      "[I 2025-01-11 10:10:27,960] Trial 124 finished with value: 0.8549369342564814 and parameters: {'n_estimators': 500, 'learning_rate': 0.03909824051853221, 'max_depth': 6, 'num_leaves': 140, 'min_child_samples': 63, 'subsample': 0.939331800371553, 'colsample_bytree': 0.929182946400162}. Best is trial 115 with value: 0.8577654580493406.\n",
      "[I 2025-01-11 10:10:28,683] Trial 125 pruned. \n",
      "[I 2025-01-11 10:10:30,552] Trial 126 finished with value: 0.8522457122001805 and parameters: {'n_estimators': 499, 'learning_rate': 0.029632740154250024, 'max_depth': 6, 'num_leaves': 163, 'min_child_samples': 63, 'subsample': 0.9786939698462885, 'colsample_bytree': 0.9537849520739691}. Best is trial 115 with value: 0.8577654580493406.\n",
      "[I 2025-01-11 10:10:31,773] Trial 127 pruned. \n",
      "[I 2025-01-11 10:10:33,471] Trial 128 finished with value: 0.8518971905068229 and parameters: {'n_estimators': 462, 'learning_rate': 0.036541009006690744, 'max_depth': 6, 'num_leaves': 140, 'min_child_samples': 65, 'subsample': 0.9407589660340867, 'colsample_bytree': 0.9301451623572018}. Best is trial 115 with value: 0.8577654580493406.\n",
      "[I 2025-01-11 10:10:34,586] Trial 129 pruned. \n",
      "[I 2025-01-11 10:10:35,628] Trial 130 pruned. \n",
      "[I 2025-01-11 10:10:37,166] Trial 131 pruned. \n",
      "[I 2025-01-11 10:10:38,570] Trial 132 pruned. \n",
      "[I 2025-01-11 10:10:39,295] Trial 133 pruned. \n",
      "[I 2025-01-11 10:10:41,138] Trial 134 finished with value: 0.8503884091709034 and parameters: {'n_estimators': 492, 'learning_rate': 0.026760952849345168, 'max_depth': 5, 'num_leaves': 143, 'min_child_samples': 64, 'subsample': 0.9431016112808779, 'colsample_bytree': 0.9736583872628315}. Best is trial 115 with value: 0.8577654580493406.\n",
      "[I 2025-01-11 10:10:41,749] Trial 135 pruned. \n",
      "[I 2025-01-11 10:10:43,048] Trial 136 pruned. \n",
      "[I 2025-01-11 10:10:43,444] Trial 137 pruned. \n",
      "[I 2025-01-11 10:10:43,999] Trial 138 pruned. \n",
      "[I 2025-01-11 10:10:45,432] Trial 139 pruned. \n",
      "[I 2025-01-11 10:10:46,102] Trial 140 pruned. \n",
      "[I 2025-01-11 10:10:47,968] Trial 141 finished with value: 0.8537875417201916 and parameters: {'n_estimators': 477, 'learning_rate': 0.030794008320101342, 'max_depth': 6, 'num_leaves': 56, 'min_child_samples': 62, 'subsample': 0.9812388678661726, 'colsample_bytree': 0.9590876643494997}. Best is trial 115 with value: 0.8577654580493406.\n",
      "[I 2025-01-11 10:10:49,753] Trial 142 finished with value: 0.8533372552889785 and parameters: {'n_estimators': 474, 'learning_rate': 0.04280200314901345, 'max_depth': 6, 'num_leaves': 61, 'min_child_samples': 63, 'subsample': 0.9756164392536183, 'colsample_bytree': 0.9596094471223096}. Best is trial 115 with value: 0.8577654580493406.\n",
      "[I 2025-01-11 10:10:51,535] Trial 143 finished with value: 0.8547326524794865 and parameters: {'n_estimators': 475, 'learning_rate': 0.04000148876724547, 'max_depth': 6, 'num_leaves': 55, 'min_child_samples': 63, 'subsample': 0.9779399226800294, 'colsample_bytree': 0.9625568150762681}. Best is trial 115 with value: 0.8577654580493406.\n",
      "[I 2025-01-11 10:10:52,276] Trial 144 pruned. \n",
      "[I 2025-01-11 10:10:52,933] Trial 145 pruned. \n",
      "[I 2025-01-11 10:10:54,662] Trial 146 finished with value: 0.8476907961917945 and parameters: {'n_estimators': 478, 'learning_rate': 0.016226758311474736, 'max_depth': 6, 'num_leaves': 71, 'min_child_samples': 65, 'subsample': 0.972364561689581, 'colsample_bytree': 0.932047517803352}. Best is trial 115 with value: 0.8577654580493406.\n",
      "[I 2025-01-11 10:10:56,534] Trial 147 finished with value: 0.8532361121145888 and parameters: {'n_estimators': 456, 'learning_rate': 0.04426772046281433, 'max_depth': 8, 'num_leaves': 54, 'min_child_samples': 57, 'subsample': 0.9226562389800789, 'colsample_bytree': 0.8869420839928327}. Best is trial 115 with value: 0.8577654580493406.\n",
      "[I 2025-01-11 10:10:57,196] Trial 148 pruned. \n",
      "[I 2025-01-11 10:10:58,854] Trial 149 finished with value: 0.8558098491354741 and parameters: {'n_estimators': 439, 'learning_rate': 0.04850483036751263, 'max_depth': 8, 'num_leaves': 41, 'min_child_samples': 63, 'subsample': 0.9825464606541564, 'colsample_bytree': 0.9452137116335121}. Best is trial 115 with value: 0.8577654580493406.\n",
      "[I 2025-01-11 10:11:00,457] Trial 150 finished with value: 0.8545428725875748 and parameters: {'n_estimators': 422, 'learning_rate': 0.04873706026454827, 'max_depth': 8, 'num_leaves': 34, 'min_child_samples': 63, 'subsample': 0.9843828710821465, 'colsample_bytree': 0.9380745244999485}. Best is trial 115 with value: 0.8577654580493406.\n",
      "[I 2025-01-11 10:11:02,088] Trial 151 finished with value: 0.854268837753964 and parameters: {'n_estimators': 425, 'learning_rate': 0.04497634665656968, 'max_depth': 10, 'num_leaves': 32, 'min_child_samples': 62, 'subsample': 0.9854288647006844, 'colsample_bytree': 0.9440647140372627}. Best is trial 115 with value: 0.8577654580493406.\n",
      "[I 2025-01-11 10:11:03,675] Trial 152 finished with value: 0.8547646455471879 and parameters: {'n_estimators': 418, 'learning_rate': 0.046790695022012586, 'max_depth': 8, 'num_leaves': 36, 'min_child_samples': 63, 'subsample': 0.971826960172978, 'colsample_bytree': 0.9453048438998554}. Best is trial 115 with value: 0.8577654580493406.\n",
      "[I 2025-01-11 10:11:04,877] Trial 153 pruned. \n",
      "[I 2025-01-11 10:11:05,501] Trial 154 pruned. \n",
      "[I 2025-01-11 10:11:06,710] Trial 155 pruned. \n",
      "[I 2025-01-11 10:11:08,343] Trial 156 finished with value: 0.8511403070123077 and parameters: {'n_estimators': 434, 'learning_rate': 0.028049874870754967, 'max_depth': 7, 'num_leaves': 41, 'min_child_samples': 63, 'subsample': 0.9672808356227138, 'colsample_bytree': 0.9722108625388237}. Best is trial 115 with value: 0.8577654580493406.\n",
      "[I 2025-01-11 10:11:09,606] Trial 157 pruned. \n",
      "[I 2025-01-11 10:11:10,733] Trial 158 pruned. \n",
      "[I 2025-01-11 10:11:12,519] Trial 159 finished with value: 0.8552469884660117 and parameters: {'n_estimators': 438, 'learning_rate': 0.04021018721314464, 'max_depth': 7, 'num_leaves': 69, 'min_child_samples': 60, 'subsample': 0.9603131491070345, 'colsample_bytree': 0.9757049153097747}. Best is trial 115 with value: 0.8577654580493406.\n",
      "[I 2025-01-11 10:11:14,302] Trial 160 finished with value: 0.8573902714398279 and parameters: {'n_estimators': 438, 'learning_rate': 0.033218104111752744, 'max_depth': 7, 'num_leaves': 14, 'min_child_samples': 60, 'subsample': 0.9527887389190113, 'colsample_bytree': 0.9814390300969242}. Best is trial 115 with value: 0.8577654580493406.\n",
      "[I 2025-01-11 10:11:16,050] Trial 161 finished with value: 0.8557772751246372 and parameters: {'n_estimators': 440, 'learning_rate': 0.033238071061125654, 'max_depth': 7, 'num_leaves': 26, 'min_child_samples': 60, 'subsample': 0.9593018242669057, 'colsample_bytree': 0.9794428012678009}. Best is trial 115 with value: 0.8577654580493406.\n",
      "[I 2025-01-11 10:11:17,776] Trial 162 finished with value: 0.855444138608803 and parameters: {'n_estimators': 424, 'learning_rate': 0.020066601243680475, 'max_depth': 10, 'num_leaves': 14, 'min_child_samples': 60, 'subsample': 0.948954504404843, 'colsample_bytree': 0.9816606246050804}. Best is trial 115 with value: 0.8577654580493406.\n",
      "[I 2025-01-11 10:11:18,670] Trial 163 pruned. \n",
      "[I 2025-01-11 10:11:19,351] Trial 164 pruned. \n",
      "[I 2025-01-11 10:11:20,075] Trial 165 pruned. \n",
      "[I 2025-01-11 10:11:20,528] Trial 166 pruned. \n",
      "[I 2025-01-11 10:11:22,213] Trial 167 finished with value: 0.8536702531688108 and parameters: {'n_estimators': 423, 'learning_rate': 0.06146652803565641, 'max_depth': 8, 'num_leaves': 40, 'min_child_samples': 59, 'subsample': 0.9328396266219889, 'colsample_bytree': 0.910578637604708}. Best is trial 115 with value: 0.8577654580493406.\n",
      "[I 2025-01-11 10:11:22,867] Trial 168 pruned. \n",
      "[I 2025-01-11 10:11:23,347] Trial 169 pruned. \n",
      "[I 2025-01-11 10:11:24,753] Trial 170 finished with value: 0.8573592380459335 and parameters: {'n_estimators': 359, 'learning_rate': 0.05379027460865086, 'max_depth': 5, 'num_leaves': 28, 'min_child_samples': 60, 'subsample': 0.8954107626219479, 'colsample_bytree': 0.9689747152393404}. Best is trial 115 with value: 0.8577654580493406.\n",
      "[I 2025-01-11 10:11:26,188] Trial 171 finished with value: 0.8562492154743747 and parameters: {'n_estimators': 361, 'learning_rate': 0.052891185908011826, 'max_depth': 6, 'num_leaves': 10, 'min_child_samples': 60, 'subsample': 0.901315034941003, 'colsample_bytree': 0.9682717052968922}. Best is trial 115 with value: 0.8577654580493406.\n",
      "[I 2025-01-11 10:11:27,504] Trial 172 finished with value: 0.8572790386835066 and parameters: {'n_estimators': 337, 'learning_rate': 0.05858859763295693, 'max_depth': 6, 'num_leaves': 7, 'min_child_samples': 60, 'subsample': 0.8869850702210939, 'colsample_bytree': 0.9991466047204214}. Best is trial 115 with value: 0.8577654580493406.\n",
      "[I 2025-01-11 10:11:28,894] Trial 173 finished with value: 0.855411572446022 and parameters: {'n_estimators': 368, 'learning_rate': 0.06053150549869901, 'max_depth': 5, 'num_leaves': 7, 'min_child_samples': 59, 'subsample': 0.8954554421176206, 'colsample_bytree': 0.986314745332023}. Best is trial 115 with value: 0.8577654580493406.\n",
      "[I 2025-01-11 10:11:30,335] Trial 174 finished with value: 0.8539781923213565 and parameters: {'n_estimators': 361, 'learning_rate': 0.06015384723358545, 'max_depth': 5, 'num_leaves': 9, 'min_child_samples': 58, 'subsample': 0.8816911446812575, 'colsample_bytree': 0.9910041211427044}. Best is trial 115 with value: 0.8577654580493406.\n",
      "[I 2025-01-11 10:11:31,166] Trial 175 pruned. \n",
      "[I 2025-01-11 10:11:31,744] Trial 176 pruned. \n",
      "[I 2025-01-11 10:11:33,376] Trial 177 finished with value: 0.8520829642344891 and parameters: {'n_estimators': 374, 'learning_rate': 0.09128148143769241, 'max_depth': 6, 'num_leaves': 12, 'min_child_samples': 57, 'subsample': 0.892092066336321, 'colsample_bytree': 0.9692727558555451}. Best is trial 115 with value: 0.8577654580493406.\n",
      "[I 2025-01-11 10:11:34,390] Trial 178 pruned. \n",
      "[I 2025-01-11 10:11:35,596] Trial 179 pruned. \n",
      "[I 2025-01-11 10:11:35,796] Trial 180 pruned. \n",
      "[I 2025-01-11 10:11:36,962] Trial 181 finished with value: 0.8486782868971641 and parameters: {'n_estimators': 316, 'learning_rate': 0.04740299376934259, 'max_depth': 6, 'num_leaves': 8, 'min_child_samples': 66, 'subsample': 0.9475136639859586, 'colsample_bytree': 0.9476346628096068}. Best is trial 115 with value: 0.8577654580493406.\n",
      "[I 2025-01-11 10:11:38,451] Trial 182 finished with value: 0.8554283036408654 and parameters: {'n_estimators': 361, 'learning_rate': 0.05513914659000465, 'max_depth': 7, 'num_leaves': 27, 'min_child_samples': 58, 'subsample': 0.9320285579899042, 'colsample_bytree': 0.9993265524099072}. Best is trial 115 with value: 0.8577654580493406.\n",
      "[I 2025-01-11 10:11:39,138] Trial 183 pruned. \n",
      "[I 2025-01-11 10:11:40,468] Trial 184 finished with value: 0.8557283349169771 and parameters: {'n_estimators': 341, 'learning_rate': 0.05663937020668697, 'max_depth': 5, 'num_leaves': 29, 'min_child_samples': 58, 'subsample': 0.8987261056096868, 'colsample_bytree': 0.9819912953864248}. Best is trial 115 with value: 0.8577654580493406.\n",
      "[I 2025-01-11 10:11:41,902] Trial 185 finished with value: 0.8534060165820195 and parameters: {'n_estimators': 342, 'learning_rate': 0.05932679589281999, 'max_depth': 40, 'num_leaves': 27, 'min_child_samples': 57, 'subsample': 0.8971792323820238, 'colsample_bytree': 0.9851183575741808}. Best is trial 115 with value: 0.8577654580493406.\n",
      "[I 2025-01-11 10:11:42,944] Trial 186 pruned. \n",
      "[I 2025-01-11 10:11:44,334] Trial 187 finished with value: 0.8531774239103388 and parameters: {'n_estimators': 357, 'learning_rate': 0.07318536700038702, 'max_depth': 5, 'num_leaves': 28, 'min_child_samples': 58, 'subsample': 0.9091871997106239, 'colsample_bytree': 0.9655204405929432}. Best is trial 115 with value: 0.8577654580493406.\n",
      "[I 2025-01-11 10:11:45,984] Trial 188 finished with value: 0.85331313870009 and parameters: {'n_estimators': 393, 'learning_rate': 0.05332356050555273, 'max_depth': 6, 'num_leaves': 8, 'min_child_samples': 55, 'subsample': 0.9224038790252254, 'colsample_bytree': 0.926588920071531}. Best is trial 115 with value: 0.8577654580493406.\n",
      "[I 2025-01-11 10:11:47,038] Trial 189 pruned. \n",
      "[I 2025-01-11 10:11:48,470] Trial 190 finished with value: 0.8480258418600581 and parameters: {'n_estimators': 340, 'learning_rate': 0.034100811847950496, 'max_depth': 5, 'num_leaves': 24, 'min_child_samples': 51, 'subsample': 0.8518061432039579, 'colsample_bytree': 0.9541860565313205}. Best is trial 115 with value: 0.8577654580493406.\n",
      "[I 2025-01-11 10:11:48,930] Trial 191 pruned. \n",
      "[I 2025-01-11 10:11:49,469] Trial 192 pruned. \n",
      "[I 2025-01-11 10:11:50,764] Trial 193 pruned. \n",
      "[I 2025-01-11 10:11:51,904] Trial 194 finished with value: 0.8525839006686736 and parameters: {'n_estimators': 274, 'learning_rate': 0.03304209060483236, 'max_depth': 6, 'num_leaves': 21, 'min_child_samples': 58, 'subsample': 0.9151318855854609, 'colsample_bytree': 0.9989712979407692}. Best is trial 115 with value: 0.8577654580493406.\n",
      "[I 2025-01-11 10:11:52,297] Trial 195 pruned. \n",
      "[I 2025-01-11 10:11:53,693] Trial 196 finished with value: 0.8557532464595761 and parameters: {'n_estimators': 350, 'learning_rate': 0.046219132736109794, 'max_depth': 7, 'num_leaves': 186, 'min_child_samples': 61, 'subsample': 0.5053688348357129, 'colsample_bytree': 0.9768404142984886}. Best is trial 115 with value: 0.8577654580493406.\n",
      "[I 2025-01-11 10:11:54,459] Trial 197 pruned. \n",
      "[I 2025-01-11 10:11:55,931] Trial 198 finished with value: 0.8556707944302364 and parameters: {'n_estimators': 351, 'learning_rate': 0.04930218177257433, 'max_depth': 7, 'num_leaves': 29, 'min_child_samples': 57, 'subsample': 0.9240825869054763, 'colsample_bytree': 0.9310649061225915}. Best is trial 115 with value: 0.8577654580493406.\n",
      "[I 2025-01-11 10:11:56,577] Trial 199 pruned. \n"
     ]
    }
   ],
   "source": [
    "study.optimize(objective, n_trials=100)"
   ]
  },
  {
   "cell_type": "code",
   "execution_count": 53,
   "metadata": {},
   "outputs": [
    {
     "data": {
      "application/vnd.plotly.v1+json": {
       "config": {
        "plotlyServerURL": "https://plot.ly"
       },
       "data": [
        {
         "dimensions": [
          {
           "label": "Objective Value",
           "range": [
            0.7730104837981013,
            0.8577654580493406
           ],
           "values": [
            0.8151694325576304,
            0.7946562781775778,
            0.7730104837981013,
            0.8389789865455175,
            0.8512157710037659,
            0.8451186762513506,
            0.8547786693220708,
            0.8519958360051966,
            0.85765229174194,
            0.8458791345369665,
            0.8521010237647169,
            0.8481299863236643,
            0.8484292682845549,
            0.8257147782712628,
            0.8521393039336205,
            0.8505721130254557,
            0.8460889657603957,
            0.850971700152422,
            0.8514368921158963,
            0.8530112307442144,
            0.8474257589953561,
            0.8512229262160688,
            0.8565264530369288,
            0.8531385067926495,
            0.8481813655345158,
            0.8471184739460351,
            0.8569224973353149,
            0.851659183417358,
            0.8496301855166722,
            0.8528369118435941,
            0.8445539636933119,
            0.8445850869320779,
            0.8474999435046415,
            0.8524694415042827,
            0.8577654580493406,
            0.8531647283374234,
            0.8555281993939303,
            0.8520388641332687,
            0.8561982541828034,
            0.8565411302290595,
            0.8549369342564814,
            0.8522457122001805,
            0.8518971905068229,
            0.8503884091709034,
            0.8537875417201916,
            0.8533372552889785,
            0.8547326524794865,
            0.8476907961917945,
            0.8532361121145888,
            0.8558098491354741,
            0.8545428725875748,
            0.854268837753964,
            0.8547646455471879,
            0.8511403070123077,
            0.8552469884660117,
            0.8573902714398279,
            0.8557772751246372,
            0.855444138608803,
            0.8536702531688108,
            0.8573592380459335,
            0.8562492154743747,
            0.8572790386835066,
            0.855411572446022,
            0.8539781923213565,
            0.8520829642344891,
            0.8486782868971641,
            0.8554283036408654,
            0.8557283349169771,
            0.8534060165820195,
            0.8531774239103388,
            0.85331313870009,
            0.8480258418600581,
            0.8525839006686736,
            0.8557532464595761,
            0.8556707944302364
           ]
          },
          {
           "label": "colsample_bytree",
           "range": [
            0.168913250920627,
            0.9996876988490357
           ],
           "values": [
            0.168913250920627,
            0.2451578333757707,
            0.28575480469794495,
            0.5656979630558061,
            0.23599934627928992,
            0.9729766201375262,
            0.9808035554774317,
            0.7514131179292576,
            0.3289180064950873,
            0.9128126866483328,
            0.3790326419557526,
            0.5228343626924966,
            0.596789472107129,
            0.8426846385276741,
            0.7228917270134199,
            0.6603625464906075,
            0.8194648804492344,
            0.740904999891546,
            0.7498028426762268,
            0.8933105374261505,
            0.9504332240303889,
            0.8947372105064705,
            0.9642579328971381,
            0.9058203601092909,
            0.9808559670327529,
            0.773053293573179,
            0.9840553861791479,
            0.8991930278267687,
            0.7595513239058082,
            0.9832777276565996,
            0.9519807209704801,
            0.9822302314560529,
            0.727589301449268,
            0.9996876988490357,
            0.999347748256048,
            0.9939600932376258,
            0.9926910934048809,
            0.9922137313225744,
            0.9507382773149944,
            0.946326701494906,
            0.929182946400162,
            0.9537849520739691,
            0.9301451623572018,
            0.9736583872628315,
            0.9590876643494997,
            0.9596094471223096,
            0.9625568150762681,
            0.932047517803352,
            0.8869420839928327,
            0.9452137116335121,
            0.9380745244999485,
            0.9440647140372627,
            0.9453048438998554,
            0.9722108625388237,
            0.9757049153097747,
            0.9814390300969242,
            0.9794428012678009,
            0.9816606246050804,
            0.910578637604708,
            0.9689747152393404,
            0.9682717052968922,
            0.9991466047204214,
            0.986314745332023,
            0.9910041211427044,
            0.9692727558555451,
            0.9476346628096068,
            0.9993265524099072,
            0.9819912953864248,
            0.9851183575741808,
            0.9655204405929432,
            0.926588920071531,
            0.9541860565313205,
            0.9989712979407692,
            0.9768404142984886,
            0.9310649061225915
           ]
          },
          {
           "label": "learning_rate",
           "range": [
            -4.716742651745791,
            -0.30786577808026777
           ],
           "ticktext": [
            "1.92e-05",
            "0.0001",
            "0.001",
            "0.01",
            "0.1",
            "0.492"
           ],
           "tickvals": [
            -4.716742651745791,
            -4,
            -3,
            -2,
            -1,
            -0.30786577808026777
           ],
           "values": [
            -2.1960110380331015,
            -3.746085970280551,
            -4.716742651745791,
            -2.846766791918604,
            -0.30786577808026777,
            -1.0807942578466951,
            -1.4291705080861978,
            -0.9265137305128032,
            -0.5166041044700751,
            -0.6593426685463879,
            -0.7958470198062463,
            -0.9336498225932512,
            -0.5817544369070584,
            -0.3329495355833134,
            -1.2607324412593572,
            -1.3702706282118644,
            -0.5721859534716223,
            -1.2453608108877332,
            -1.279454884883801,
            -1.6658127991403133,
            -1.6447142969203723,
            -1.5293103369013792,
            -1.3931530773887952,
            -1.4493841306570119,
            -0.6888313152203913,
            -1.2536637370985841,
            -0.8779246247709785,
            -1.305148084421648,
            -0.9188359073651169,
            -1.2791779149516236,
            -1.9918162066986678,
            -1.4077987616658205,
            -1.2981224837276233,
            -1.1539502859624888,
            -1.0957137706761435,
            -1.112796929566274,
            -1.0907414304243106,
            -1.1377063836816683,
            -1.19425609441652,
            -1.1722374165722678,
            -1.4078427860897036,
            -1.528228187235874,
            -1.4372194646466487,
            -1.5724984271581224,
            -1.511533777222127,
            -1.3685359053745496,
            -1.3979238448878486,
            -1.789768232364467,
            -1.3539128411544261,
            -1.314215009902938,
            -1.3121406702556988,
            -1.3470158243857109,
            -1.3298405038143792,
            -1.5520690717718788,
            -1.3956639048765371,
            -1.4786251580766845,
            -1.4783641880111797,
            -1.6975261793864995,
            -1.2113613175045033,
            -1.2692962385640865,
            -1.2766166952700762,
            -1.2321868970694125,
            -1.2180185244742543,
            -1.2207365914515635,
            -1.0396173202222447,
            -1.3241942292869298,
            -1.2585399599226639,
            -1.246881584366332,
            -1.2267491063000588,
            -1.135575744983541,
            -1.2730808597028827,
            -1.4672352815093201,
            -1.4809324822530214,
            -1.335178207958069,
            -1.307133861436281
           ]
          },
          {
           "label": "max_depth",
           "range": [
            3,
            40
           ],
           "values": [
            23,
            36,
            14,
            23,
            14,
            12,
            17,
            26,
            25,
            25,
            26,
            31,
            27,
            37,
            13,
            30,
            16,
            13,
            13,
            9,
            9,
            26,
            5,
            6,
            3,
            6,
            8,
            24,
            14,
            6,
            6,
            20,
            16,
            5,
            5,
            3,
            5,
            3,
            6,
            6,
            6,
            6,
            6,
            5,
            6,
            6,
            6,
            6,
            8,
            8,
            8,
            10,
            8,
            7,
            7,
            7,
            7,
            10,
            8,
            5,
            6,
            6,
            5,
            5,
            6,
            6,
            7,
            5,
            40,
            5,
            6,
            5,
            6,
            7,
            7
           ]
          },
          {
           "label": "min_child_samples",
           "range": [
            16,
            84
           ],
           "values": [
            33,
            16,
            65,
            43,
            84,
            30,
            24,
            57,
            57,
            43,
            39,
            23,
            68,
            34,
            26,
            33,
            26,
            54,
            55,
            58,
            63,
            56,
            58,
            58,
            59,
            53,
            69,
            60,
            58,
            67,
            17,
            75,
            71,
            59,
            65,
            64,
            64,
            64,
            63,
            63,
            63,
            63,
            65,
            64,
            62,
            63,
            63,
            65,
            57,
            63,
            63,
            62,
            63,
            63,
            60,
            60,
            60,
            60,
            59,
            60,
            60,
            60,
            59,
            58,
            57,
            66,
            58,
            58,
            57,
            58,
            55,
            51,
            58,
            61,
            57
           ]
          },
          {
           "label": "n_estimators",
           "range": [
            50,
            500
           ],
           "values": [
            103,
            118,
            222,
            104,
            128,
            184,
            53,
            58,
            94,
            157,
            50,
            50,
            111,
            213,
            52,
            71,
            50,
            98,
            100,
            457,
            456,
            402,
            474,
            445,
            442,
            469,
            360,
            231,
            71,
            485,
            90,
            487,
            471,
            493,
            496,
            494,
            496,
            466,
            488,
            492,
            500,
            499,
            462,
            492,
            477,
            474,
            475,
            478,
            456,
            439,
            422,
            425,
            418,
            434,
            438,
            438,
            440,
            424,
            423,
            359,
            361,
            337,
            368,
            361,
            374,
            316,
            361,
            341,
            342,
            357,
            393,
            340,
            274,
            350,
            351
           ]
          },
          {
           "label": "num_leaves",
           "range": [
            7,
            243
           ],
           "values": [
            163,
            33,
            94,
            66,
            204,
            169,
            158,
            243,
            188,
            149,
            116,
            119,
            189,
            108,
            220,
            161,
            195,
            138,
            130,
            86,
            86,
            111,
            68,
            45,
            83,
            95,
            125,
            112,
            109,
            138,
            139,
            219,
            127,
            131,
            134,
            136,
            126,
            134,
            136,
            136,
            140,
            163,
            140,
            143,
            56,
            61,
            55,
            71,
            54,
            41,
            34,
            32,
            36,
            41,
            69,
            14,
            26,
            14,
            40,
            28,
            10,
            7,
            7,
            9,
            12,
            8,
            27,
            29,
            27,
            28,
            8,
            24,
            21,
            186,
            29
           ]
          },
          {
           "label": "subsample",
           "range": [
            0.29677717111792373,
            0.9989574558310867
           ],
           "values": [
            0.4060650969992817,
            0.7235819119146923,
            0.3883458556215959,
            0.808712309032782,
            0.5604079164547865,
            0.8849572187921411,
            0.9658518626918434,
            0.41395807770915916,
            0.6179861386069758,
            0.29677717111792373,
            0.9850002070900732,
            0.8232299696545039,
            0.9519245723808062,
            0.3452839936599871,
            0.6826418079225613,
            0.6979599407853312,
            0.5849959148136052,
            0.9041072498779785,
            0.9275657310718027,
            0.9540956149673612,
            0.9540674182028309,
            0.9211437965256714,
            0.8065579855578313,
            0.8610420379529854,
            0.9961649313979762,
            0.9237156798388421,
            0.9440579585395904,
            0.9041281415110288,
            0.9843643970882175,
            0.8588106975595923,
            0.9006995930740713,
            0.8018502869391009,
            0.9317814532865872,
            0.9594834692278844,
            0.9622881908561005,
            0.9989574558310867,
            0.9657149381932418,
            0.9602984789241328,
            0.9448627662991366,
            0.9427836577592494,
            0.939331800371553,
            0.9786939698462885,
            0.9407589660340867,
            0.9431016112808779,
            0.9812388678661726,
            0.9756164392536183,
            0.9779399226800294,
            0.972364561689581,
            0.9226562389800789,
            0.9825464606541564,
            0.9843828710821465,
            0.9854288647006844,
            0.971826960172978,
            0.9672808356227138,
            0.9603131491070345,
            0.9527887389190113,
            0.9593018242669057,
            0.948954504404843,
            0.9328396266219889,
            0.8954107626219479,
            0.901315034941003,
            0.8869850702210939,
            0.8954554421176206,
            0.8816911446812575,
            0.892092066336321,
            0.9475136639859586,
            0.9320285579899042,
            0.8987261056096868,
            0.8971792323820238,
            0.9091871997106239,
            0.9224038790252254,
            0.8518061432039579,
            0.9151318855854609,
            0.5053688348357129,
            0.9240825869054763
           ]
          }
         ],
         "labelangle": 30,
         "labelside": "bottom",
         "line": {
          "color": [
           0.8151694325576304,
           0.7946562781775778,
           0.7730104837981013,
           0.8389789865455175,
           0.8512157710037659,
           0.8451186762513506,
           0.8547786693220708,
           0.8519958360051966,
           0.85765229174194,
           0.8458791345369665,
           0.8521010237647169,
           0.8481299863236643,
           0.8484292682845549,
           0.8257147782712628,
           0.8521393039336205,
           0.8505721130254557,
           0.8460889657603957,
           0.850971700152422,
           0.8514368921158963,
           0.8530112307442144,
           0.8474257589953561,
           0.8512229262160688,
           0.8565264530369288,
           0.8531385067926495,
           0.8481813655345158,
           0.8471184739460351,
           0.8569224973353149,
           0.851659183417358,
           0.8496301855166722,
           0.8528369118435941,
           0.8445539636933119,
           0.8445850869320779,
           0.8474999435046415,
           0.8524694415042827,
           0.8577654580493406,
           0.8531647283374234,
           0.8555281993939303,
           0.8520388641332687,
           0.8561982541828034,
           0.8565411302290595,
           0.8549369342564814,
           0.8522457122001805,
           0.8518971905068229,
           0.8503884091709034,
           0.8537875417201916,
           0.8533372552889785,
           0.8547326524794865,
           0.8476907961917945,
           0.8532361121145888,
           0.8558098491354741,
           0.8545428725875748,
           0.854268837753964,
           0.8547646455471879,
           0.8511403070123077,
           0.8552469884660117,
           0.8573902714398279,
           0.8557772751246372,
           0.855444138608803,
           0.8536702531688108,
           0.8573592380459335,
           0.8562492154743747,
           0.8572790386835066,
           0.855411572446022,
           0.8539781923213565,
           0.8520829642344891,
           0.8486782868971641,
           0.8554283036408654,
           0.8557283349169771,
           0.8534060165820195,
           0.8531774239103388,
           0.85331313870009,
           0.8480258418600581,
           0.8525839006686736,
           0.8557532464595761,
           0.8556707944302364
          ],
          "colorbar": {
           "title": {
            "text": "Objective Value"
           }
          },
          "colorscale": [
           [
            0,
            "rgb(247,251,255)"
           ],
           [
            0.125,
            "rgb(222,235,247)"
           ],
           [
            0.25,
            "rgb(198,219,239)"
           ],
           [
            0.375,
            "rgb(158,202,225)"
           ],
           [
            0.5,
            "rgb(107,174,214)"
           ],
           [
            0.625,
            "rgb(66,146,198)"
           ],
           [
            0.75,
            "rgb(33,113,181)"
           ],
           [
            0.875,
            "rgb(8,81,156)"
           ],
           [
            1,
            "rgb(8,48,107)"
           ]
          ],
          "reversescale": false,
          "showscale": true
         },
         "type": "parcoords"
        }
       ],
       "layout": {
        "template": {
         "data": {
          "bar": [
           {
            "error_x": {
             "color": "#2a3f5f"
            },
            "error_y": {
             "color": "#2a3f5f"
            },
            "marker": {
             "line": {
              "color": "#E5ECF6",
              "width": 0.5
             },
             "pattern": {
              "fillmode": "overlay",
              "size": 10,
              "solidity": 0.2
             }
            },
            "type": "bar"
           }
          ],
          "barpolar": [
           {
            "marker": {
             "line": {
              "color": "#E5ECF6",
              "width": 0.5
             },
             "pattern": {
              "fillmode": "overlay",
              "size": 10,
              "solidity": 0.2
             }
            },
            "type": "barpolar"
           }
          ],
          "carpet": [
           {
            "aaxis": {
             "endlinecolor": "#2a3f5f",
             "gridcolor": "white",
             "linecolor": "white",
             "minorgridcolor": "white",
             "startlinecolor": "#2a3f5f"
            },
            "baxis": {
             "endlinecolor": "#2a3f5f",
             "gridcolor": "white",
             "linecolor": "white",
             "minorgridcolor": "white",
             "startlinecolor": "#2a3f5f"
            },
            "type": "carpet"
           }
          ],
          "choropleth": [
           {
            "colorbar": {
             "outlinewidth": 0,
             "ticks": ""
            },
            "type": "choropleth"
           }
          ],
          "contour": [
           {
            "colorbar": {
             "outlinewidth": 0,
             "ticks": ""
            },
            "colorscale": [
             [
              0,
              "#0d0887"
             ],
             [
              0.1111111111111111,
              "#46039f"
             ],
             [
              0.2222222222222222,
              "#7201a8"
             ],
             [
              0.3333333333333333,
              "#9c179e"
             ],
             [
              0.4444444444444444,
              "#bd3786"
             ],
             [
              0.5555555555555556,
              "#d8576b"
             ],
             [
              0.6666666666666666,
              "#ed7953"
             ],
             [
              0.7777777777777778,
              "#fb9f3a"
             ],
             [
              0.8888888888888888,
              "#fdca26"
             ],
             [
              1,
              "#f0f921"
             ]
            ],
            "type": "contour"
           }
          ],
          "contourcarpet": [
           {
            "colorbar": {
             "outlinewidth": 0,
             "ticks": ""
            },
            "type": "contourcarpet"
           }
          ],
          "heatmap": [
           {
            "colorbar": {
             "outlinewidth": 0,
             "ticks": ""
            },
            "colorscale": [
             [
              0,
              "#0d0887"
             ],
             [
              0.1111111111111111,
              "#46039f"
             ],
             [
              0.2222222222222222,
              "#7201a8"
             ],
             [
              0.3333333333333333,
              "#9c179e"
             ],
             [
              0.4444444444444444,
              "#bd3786"
             ],
             [
              0.5555555555555556,
              "#d8576b"
             ],
             [
              0.6666666666666666,
              "#ed7953"
             ],
             [
              0.7777777777777778,
              "#fb9f3a"
             ],
             [
              0.8888888888888888,
              "#fdca26"
             ],
             [
              1,
              "#f0f921"
             ]
            ],
            "type": "heatmap"
           }
          ],
          "heatmapgl": [
           {
            "colorbar": {
             "outlinewidth": 0,
             "ticks": ""
            },
            "colorscale": [
             [
              0,
              "#0d0887"
             ],
             [
              0.1111111111111111,
              "#46039f"
             ],
             [
              0.2222222222222222,
              "#7201a8"
             ],
             [
              0.3333333333333333,
              "#9c179e"
             ],
             [
              0.4444444444444444,
              "#bd3786"
             ],
             [
              0.5555555555555556,
              "#d8576b"
             ],
             [
              0.6666666666666666,
              "#ed7953"
             ],
             [
              0.7777777777777778,
              "#fb9f3a"
             ],
             [
              0.8888888888888888,
              "#fdca26"
             ],
             [
              1,
              "#f0f921"
             ]
            ],
            "type": "heatmapgl"
           }
          ],
          "histogram": [
           {
            "marker": {
             "pattern": {
              "fillmode": "overlay",
              "size": 10,
              "solidity": 0.2
             }
            },
            "type": "histogram"
           }
          ],
          "histogram2d": [
           {
            "colorbar": {
             "outlinewidth": 0,
             "ticks": ""
            },
            "colorscale": [
             [
              0,
              "#0d0887"
             ],
             [
              0.1111111111111111,
              "#46039f"
             ],
             [
              0.2222222222222222,
              "#7201a8"
             ],
             [
              0.3333333333333333,
              "#9c179e"
             ],
             [
              0.4444444444444444,
              "#bd3786"
             ],
             [
              0.5555555555555556,
              "#d8576b"
             ],
             [
              0.6666666666666666,
              "#ed7953"
             ],
             [
              0.7777777777777778,
              "#fb9f3a"
             ],
             [
              0.8888888888888888,
              "#fdca26"
             ],
             [
              1,
              "#f0f921"
             ]
            ],
            "type": "histogram2d"
           }
          ],
          "histogram2dcontour": [
           {
            "colorbar": {
             "outlinewidth": 0,
             "ticks": ""
            },
            "colorscale": [
             [
              0,
              "#0d0887"
             ],
             [
              0.1111111111111111,
              "#46039f"
             ],
             [
              0.2222222222222222,
              "#7201a8"
             ],
             [
              0.3333333333333333,
              "#9c179e"
             ],
             [
              0.4444444444444444,
              "#bd3786"
             ],
             [
              0.5555555555555556,
              "#d8576b"
             ],
             [
              0.6666666666666666,
              "#ed7953"
             ],
             [
              0.7777777777777778,
              "#fb9f3a"
             ],
             [
              0.8888888888888888,
              "#fdca26"
             ],
             [
              1,
              "#f0f921"
             ]
            ],
            "type": "histogram2dcontour"
           }
          ],
          "mesh3d": [
           {
            "colorbar": {
             "outlinewidth": 0,
             "ticks": ""
            },
            "type": "mesh3d"
           }
          ],
          "parcoords": [
           {
            "line": {
             "colorbar": {
              "outlinewidth": 0,
              "ticks": ""
             }
            },
            "type": "parcoords"
           }
          ],
          "pie": [
           {
            "automargin": true,
            "type": "pie"
           }
          ],
          "scatter": [
           {
            "fillpattern": {
             "fillmode": "overlay",
             "size": 10,
             "solidity": 0.2
            },
            "type": "scatter"
           }
          ],
          "scatter3d": [
           {
            "line": {
             "colorbar": {
              "outlinewidth": 0,
              "ticks": ""
             }
            },
            "marker": {
             "colorbar": {
              "outlinewidth": 0,
              "ticks": ""
             }
            },
            "type": "scatter3d"
           }
          ],
          "scattercarpet": [
           {
            "marker": {
             "colorbar": {
              "outlinewidth": 0,
              "ticks": ""
             }
            },
            "type": "scattercarpet"
           }
          ],
          "scattergeo": [
           {
            "marker": {
             "colorbar": {
              "outlinewidth": 0,
              "ticks": ""
             }
            },
            "type": "scattergeo"
           }
          ],
          "scattergl": [
           {
            "marker": {
             "colorbar": {
              "outlinewidth": 0,
              "ticks": ""
             }
            },
            "type": "scattergl"
           }
          ],
          "scattermapbox": [
           {
            "marker": {
             "colorbar": {
              "outlinewidth": 0,
              "ticks": ""
             }
            },
            "type": "scattermapbox"
           }
          ],
          "scatterpolar": [
           {
            "marker": {
             "colorbar": {
              "outlinewidth": 0,
              "ticks": ""
             }
            },
            "type": "scatterpolar"
           }
          ],
          "scatterpolargl": [
           {
            "marker": {
             "colorbar": {
              "outlinewidth": 0,
              "ticks": ""
             }
            },
            "type": "scatterpolargl"
           }
          ],
          "scatterternary": [
           {
            "marker": {
             "colorbar": {
              "outlinewidth": 0,
              "ticks": ""
             }
            },
            "type": "scatterternary"
           }
          ],
          "surface": [
           {
            "colorbar": {
             "outlinewidth": 0,
             "ticks": ""
            },
            "colorscale": [
             [
              0,
              "#0d0887"
             ],
             [
              0.1111111111111111,
              "#46039f"
             ],
             [
              0.2222222222222222,
              "#7201a8"
             ],
             [
              0.3333333333333333,
              "#9c179e"
             ],
             [
              0.4444444444444444,
              "#bd3786"
             ],
             [
              0.5555555555555556,
              "#d8576b"
             ],
             [
              0.6666666666666666,
              "#ed7953"
             ],
             [
              0.7777777777777778,
              "#fb9f3a"
             ],
             [
              0.8888888888888888,
              "#fdca26"
             ],
             [
              1,
              "#f0f921"
             ]
            ],
            "type": "surface"
           }
          ],
          "table": [
           {
            "cells": {
             "fill": {
              "color": "#EBF0F8"
             },
             "line": {
              "color": "white"
             }
            },
            "header": {
             "fill": {
              "color": "#C8D4E3"
             },
             "line": {
              "color": "white"
             }
            },
            "type": "table"
           }
          ]
         },
         "layout": {
          "annotationdefaults": {
           "arrowcolor": "#2a3f5f",
           "arrowhead": 0,
           "arrowwidth": 1
          },
          "autotypenumbers": "strict",
          "coloraxis": {
           "colorbar": {
            "outlinewidth": 0,
            "ticks": ""
           }
          },
          "colorscale": {
           "diverging": [
            [
             0,
             "#8e0152"
            ],
            [
             0.1,
             "#c51b7d"
            ],
            [
             0.2,
             "#de77ae"
            ],
            [
             0.3,
             "#f1b6da"
            ],
            [
             0.4,
             "#fde0ef"
            ],
            [
             0.5,
             "#f7f7f7"
            ],
            [
             0.6,
             "#e6f5d0"
            ],
            [
             0.7,
             "#b8e186"
            ],
            [
             0.8,
             "#7fbc41"
            ],
            [
             0.9,
             "#4d9221"
            ],
            [
             1,
             "#276419"
            ]
           ],
           "sequential": [
            [
             0,
             "#0d0887"
            ],
            [
             0.1111111111111111,
             "#46039f"
            ],
            [
             0.2222222222222222,
             "#7201a8"
            ],
            [
             0.3333333333333333,
             "#9c179e"
            ],
            [
             0.4444444444444444,
             "#bd3786"
            ],
            [
             0.5555555555555556,
             "#d8576b"
            ],
            [
             0.6666666666666666,
             "#ed7953"
            ],
            [
             0.7777777777777778,
             "#fb9f3a"
            ],
            [
             0.8888888888888888,
             "#fdca26"
            ],
            [
             1,
             "#f0f921"
            ]
           ],
           "sequentialminus": [
            [
             0,
             "#0d0887"
            ],
            [
             0.1111111111111111,
             "#46039f"
            ],
            [
             0.2222222222222222,
             "#7201a8"
            ],
            [
             0.3333333333333333,
             "#9c179e"
            ],
            [
             0.4444444444444444,
             "#bd3786"
            ],
            [
             0.5555555555555556,
             "#d8576b"
            ],
            [
             0.6666666666666666,
             "#ed7953"
            ],
            [
             0.7777777777777778,
             "#fb9f3a"
            ],
            [
             0.8888888888888888,
             "#fdca26"
            ],
            [
             1,
             "#f0f921"
            ]
           ]
          },
          "colorway": [
           "#636efa",
           "#EF553B",
           "#00cc96",
           "#ab63fa",
           "#FFA15A",
           "#19d3f3",
           "#FF6692",
           "#B6E880",
           "#FF97FF",
           "#FECB52"
          ],
          "font": {
           "color": "#2a3f5f"
          },
          "geo": {
           "bgcolor": "white",
           "lakecolor": "white",
           "landcolor": "#E5ECF6",
           "showlakes": true,
           "showland": true,
           "subunitcolor": "white"
          },
          "hoverlabel": {
           "align": "left"
          },
          "hovermode": "closest",
          "mapbox": {
           "style": "light"
          },
          "paper_bgcolor": "white",
          "plot_bgcolor": "#E5ECF6",
          "polar": {
           "angularaxis": {
            "gridcolor": "white",
            "linecolor": "white",
            "ticks": ""
           },
           "bgcolor": "#E5ECF6",
           "radialaxis": {
            "gridcolor": "white",
            "linecolor": "white",
            "ticks": ""
           }
          },
          "scene": {
           "xaxis": {
            "backgroundcolor": "#E5ECF6",
            "gridcolor": "white",
            "gridwidth": 2,
            "linecolor": "white",
            "showbackground": true,
            "ticks": "",
            "zerolinecolor": "white"
           },
           "yaxis": {
            "backgroundcolor": "#E5ECF6",
            "gridcolor": "white",
            "gridwidth": 2,
            "linecolor": "white",
            "showbackground": true,
            "ticks": "",
            "zerolinecolor": "white"
           },
           "zaxis": {
            "backgroundcolor": "#E5ECF6",
            "gridcolor": "white",
            "gridwidth": 2,
            "linecolor": "white",
            "showbackground": true,
            "ticks": "",
            "zerolinecolor": "white"
           }
          },
          "shapedefaults": {
           "line": {
            "color": "#2a3f5f"
           }
          },
          "ternary": {
           "aaxis": {
            "gridcolor": "white",
            "linecolor": "white",
            "ticks": ""
           },
           "baxis": {
            "gridcolor": "white",
            "linecolor": "white",
            "ticks": ""
           },
           "bgcolor": "#E5ECF6",
           "caxis": {
            "gridcolor": "white",
            "linecolor": "white",
            "ticks": ""
           }
          },
          "title": {
           "x": 0.05
          },
          "xaxis": {
           "automargin": true,
           "gridcolor": "white",
           "linecolor": "white",
           "ticks": "",
           "title": {
            "standoff": 15
           },
           "zerolinecolor": "white",
           "zerolinewidth": 2
          },
          "yaxis": {
           "automargin": true,
           "gridcolor": "white",
           "linecolor": "white",
           "ticks": "",
           "title": {
            "standoff": 15
           },
           "zerolinecolor": "white",
           "zerolinewidth": 2
          }
         }
        },
        "title": {
         "text": "Parallel Coordinate Plot"
        }
       }
      }
     },
     "metadata": {},
     "output_type": "display_data"
    }
   ],
   "source": [
    "optuna.visualization.plot_parallel_coordinate(study)"
   ]
  },
  {
   "cell_type": "markdown",
   "metadata": {},
   "source": [
    "## Train"
   ]
  },
  {
   "cell_type": "code",
   "execution_count": 59,
   "metadata": {},
   "outputs": [],
   "source": [
    "model = LGBMClassifier(**study.best_params, verbose=-1, random_state=23)"
   ]
  },
  {
   "cell_type": "code",
   "execution_count": 60,
   "metadata": {},
   "outputs": [
    {
     "data": {
      "text/html": [
       "<style>#sk-container-id-4 {\n",
       "  /* Definition of color scheme common for light and dark mode */\n",
       "  --sklearn-color-text: #000;\n",
       "  --sklearn-color-text-muted: #666;\n",
       "  --sklearn-color-line: gray;\n",
       "  /* Definition of color scheme for unfitted estimators */\n",
       "  --sklearn-color-unfitted-level-0: #fff5e6;\n",
       "  --sklearn-color-unfitted-level-1: #f6e4d2;\n",
       "  --sklearn-color-unfitted-level-2: #ffe0b3;\n",
       "  --sklearn-color-unfitted-level-3: chocolate;\n",
       "  /* Definition of color scheme for fitted estimators */\n",
       "  --sklearn-color-fitted-level-0: #f0f8ff;\n",
       "  --sklearn-color-fitted-level-1: #d4ebff;\n",
       "  --sklearn-color-fitted-level-2: #b3dbfd;\n",
       "  --sklearn-color-fitted-level-3: cornflowerblue;\n",
       "\n",
       "  /* Specific color for light theme */\n",
       "  --sklearn-color-text-on-default-background: var(--sg-text-color, var(--theme-code-foreground, var(--jp-content-font-color1, black)));\n",
       "  --sklearn-color-background: var(--sg-background-color, var(--theme-background, var(--jp-layout-color0, white)));\n",
       "  --sklearn-color-border-box: var(--sg-text-color, var(--theme-code-foreground, var(--jp-content-font-color1, black)));\n",
       "  --sklearn-color-icon: #696969;\n",
       "\n",
       "  @media (prefers-color-scheme: dark) {\n",
       "    /* Redefinition of color scheme for dark theme */\n",
       "    --sklearn-color-text-on-default-background: var(--sg-text-color, var(--theme-code-foreground, var(--jp-content-font-color1, white)));\n",
       "    --sklearn-color-background: var(--sg-background-color, var(--theme-background, var(--jp-layout-color0, #111)));\n",
       "    --sklearn-color-border-box: var(--sg-text-color, var(--theme-code-foreground, var(--jp-content-font-color1, white)));\n",
       "    --sklearn-color-icon: #878787;\n",
       "  }\n",
       "}\n",
       "\n",
       "#sk-container-id-4 {\n",
       "  color: var(--sklearn-color-text);\n",
       "}\n",
       "\n",
       "#sk-container-id-4 pre {\n",
       "  padding: 0;\n",
       "}\n",
       "\n",
       "#sk-container-id-4 input.sk-hidden--visually {\n",
       "  border: 0;\n",
       "  clip: rect(1px 1px 1px 1px);\n",
       "  clip: rect(1px, 1px, 1px, 1px);\n",
       "  height: 1px;\n",
       "  margin: -1px;\n",
       "  overflow: hidden;\n",
       "  padding: 0;\n",
       "  position: absolute;\n",
       "  width: 1px;\n",
       "}\n",
       "\n",
       "#sk-container-id-4 div.sk-dashed-wrapped {\n",
       "  border: 1px dashed var(--sklearn-color-line);\n",
       "  margin: 0 0.4em 0.5em 0.4em;\n",
       "  box-sizing: border-box;\n",
       "  padding-bottom: 0.4em;\n",
       "  background-color: var(--sklearn-color-background);\n",
       "}\n",
       "\n",
       "#sk-container-id-4 div.sk-container {\n",
       "  /* jupyter's `normalize.less` sets `[hidden] { display: none; }`\n",
       "     but bootstrap.min.css set `[hidden] { display: none !important; }`\n",
       "     so we also need the `!important` here to be able to override the\n",
       "     default hidden behavior on the sphinx rendered scikit-learn.org.\n",
       "     See: https://github.com/scikit-learn/scikit-learn/issues/21755 */\n",
       "  display: inline-block !important;\n",
       "  position: relative;\n",
       "}\n",
       "\n",
       "#sk-container-id-4 div.sk-text-repr-fallback {\n",
       "  display: none;\n",
       "}\n",
       "\n",
       "div.sk-parallel-item,\n",
       "div.sk-serial,\n",
       "div.sk-item {\n",
       "  /* draw centered vertical line to link estimators */\n",
       "  background-image: linear-gradient(var(--sklearn-color-text-on-default-background), var(--sklearn-color-text-on-default-background));\n",
       "  background-size: 2px 100%;\n",
       "  background-repeat: no-repeat;\n",
       "  background-position: center center;\n",
       "}\n",
       "\n",
       "/* Parallel-specific style estimator block */\n",
       "\n",
       "#sk-container-id-4 div.sk-parallel-item::after {\n",
       "  content: \"\";\n",
       "  width: 100%;\n",
       "  border-bottom: 2px solid var(--sklearn-color-text-on-default-background);\n",
       "  flex-grow: 1;\n",
       "}\n",
       "\n",
       "#sk-container-id-4 div.sk-parallel {\n",
       "  display: flex;\n",
       "  align-items: stretch;\n",
       "  justify-content: center;\n",
       "  background-color: var(--sklearn-color-background);\n",
       "  position: relative;\n",
       "}\n",
       "\n",
       "#sk-container-id-4 div.sk-parallel-item {\n",
       "  display: flex;\n",
       "  flex-direction: column;\n",
       "}\n",
       "\n",
       "#sk-container-id-4 div.sk-parallel-item:first-child::after {\n",
       "  align-self: flex-end;\n",
       "  width: 50%;\n",
       "}\n",
       "\n",
       "#sk-container-id-4 div.sk-parallel-item:last-child::after {\n",
       "  align-self: flex-start;\n",
       "  width: 50%;\n",
       "}\n",
       "\n",
       "#sk-container-id-4 div.sk-parallel-item:only-child::after {\n",
       "  width: 0;\n",
       "}\n",
       "\n",
       "/* Serial-specific style estimator block */\n",
       "\n",
       "#sk-container-id-4 div.sk-serial {\n",
       "  display: flex;\n",
       "  flex-direction: column;\n",
       "  align-items: center;\n",
       "  background-color: var(--sklearn-color-background);\n",
       "  padding-right: 1em;\n",
       "  padding-left: 1em;\n",
       "}\n",
       "\n",
       "\n",
       "/* Toggleable style: style used for estimator/Pipeline/ColumnTransformer box that is\n",
       "clickable and can be expanded/collapsed.\n",
       "- Pipeline and ColumnTransformer use this feature and define the default style\n",
       "- Estimators will overwrite some part of the style using the `sk-estimator` class\n",
       "*/\n",
       "\n",
       "/* Pipeline and ColumnTransformer style (default) */\n",
       "\n",
       "#sk-container-id-4 div.sk-toggleable {\n",
       "  /* Default theme specific background. It is overwritten whether we have a\n",
       "  specific estimator or a Pipeline/ColumnTransformer */\n",
       "  background-color: var(--sklearn-color-background);\n",
       "}\n",
       "\n",
       "/* Toggleable label */\n",
       "#sk-container-id-4 label.sk-toggleable__label {\n",
       "  cursor: pointer;\n",
       "  display: flex;\n",
       "  width: 100%;\n",
       "  margin-bottom: 0;\n",
       "  padding: 0.5em;\n",
       "  box-sizing: border-box;\n",
       "  text-align: center;\n",
       "  align-items: start;\n",
       "  justify-content: space-between;\n",
       "  gap: 0.5em;\n",
       "}\n",
       "\n",
       "#sk-container-id-4 label.sk-toggleable__label .caption {\n",
       "  font-size: 0.6rem;\n",
       "  font-weight: lighter;\n",
       "  color: var(--sklearn-color-text-muted);\n",
       "}\n",
       "\n",
       "#sk-container-id-4 label.sk-toggleable__label-arrow:before {\n",
       "  /* Arrow on the left of the label */\n",
       "  content: \"▸\";\n",
       "  float: left;\n",
       "  margin-right: 0.25em;\n",
       "  color: var(--sklearn-color-icon);\n",
       "}\n",
       "\n",
       "#sk-container-id-4 label.sk-toggleable__label-arrow:hover:before {\n",
       "  color: var(--sklearn-color-text);\n",
       "}\n",
       "\n",
       "/* Toggleable content - dropdown */\n",
       "\n",
       "#sk-container-id-4 div.sk-toggleable__content {\n",
       "  max-height: 0;\n",
       "  max-width: 0;\n",
       "  overflow: hidden;\n",
       "  text-align: left;\n",
       "  /* unfitted */\n",
       "  background-color: var(--sklearn-color-unfitted-level-0);\n",
       "}\n",
       "\n",
       "#sk-container-id-4 div.sk-toggleable__content.fitted {\n",
       "  /* fitted */\n",
       "  background-color: var(--sklearn-color-fitted-level-0);\n",
       "}\n",
       "\n",
       "#sk-container-id-4 div.sk-toggleable__content pre {\n",
       "  margin: 0.2em;\n",
       "  border-radius: 0.25em;\n",
       "  color: var(--sklearn-color-text);\n",
       "  /* unfitted */\n",
       "  background-color: var(--sklearn-color-unfitted-level-0);\n",
       "}\n",
       "\n",
       "#sk-container-id-4 div.sk-toggleable__content.fitted pre {\n",
       "  /* unfitted */\n",
       "  background-color: var(--sklearn-color-fitted-level-0);\n",
       "}\n",
       "\n",
       "#sk-container-id-4 input.sk-toggleable__control:checked~div.sk-toggleable__content {\n",
       "  /* Expand drop-down */\n",
       "  max-height: 200px;\n",
       "  max-width: 100%;\n",
       "  overflow: auto;\n",
       "}\n",
       "\n",
       "#sk-container-id-4 input.sk-toggleable__control:checked~label.sk-toggleable__label-arrow:before {\n",
       "  content: \"▾\";\n",
       "}\n",
       "\n",
       "/* Pipeline/ColumnTransformer-specific style */\n",
       "\n",
       "#sk-container-id-4 div.sk-label input.sk-toggleable__control:checked~label.sk-toggleable__label {\n",
       "  color: var(--sklearn-color-text);\n",
       "  background-color: var(--sklearn-color-unfitted-level-2);\n",
       "}\n",
       "\n",
       "#sk-container-id-4 div.sk-label.fitted input.sk-toggleable__control:checked~label.sk-toggleable__label {\n",
       "  background-color: var(--sklearn-color-fitted-level-2);\n",
       "}\n",
       "\n",
       "/* Estimator-specific style */\n",
       "\n",
       "/* Colorize estimator box */\n",
       "#sk-container-id-4 div.sk-estimator input.sk-toggleable__control:checked~label.sk-toggleable__label {\n",
       "  /* unfitted */\n",
       "  background-color: var(--sklearn-color-unfitted-level-2);\n",
       "}\n",
       "\n",
       "#sk-container-id-4 div.sk-estimator.fitted input.sk-toggleable__control:checked~label.sk-toggleable__label {\n",
       "  /* fitted */\n",
       "  background-color: var(--sklearn-color-fitted-level-2);\n",
       "}\n",
       "\n",
       "#sk-container-id-4 div.sk-label label.sk-toggleable__label,\n",
       "#sk-container-id-4 div.sk-label label {\n",
       "  /* The background is the default theme color */\n",
       "  color: var(--sklearn-color-text-on-default-background);\n",
       "}\n",
       "\n",
       "/* On hover, darken the color of the background */\n",
       "#sk-container-id-4 div.sk-label:hover label.sk-toggleable__label {\n",
       "  color: var(--sklearn-color-text);\n",
       "  background-color: var(--sklearn-color-unfitted-level-2);\n",
       "}\n",
       "\n",
       "/* Label box, darken color on hover, fitted */\n",
       "#sk-container-id-4 div.sk-label.fitted:hover label.sk-toggleable__label.fitted {\n",
       "  color: var(--sklearn-color-text);\n",
       "  background-color: var(--sklearn-color-fitted-level-2);\n",
       "}\n",
       "\n",
       "/* Estimator label */\n",
       "\n",
       "#sk-container-id-4 div.sk-label label {\n",
       "  font-family: monospace;\n",
       "  font-weight: bold;\n",
       "  display: inline-block;\n",
       "  line-height: 1.2em;\n",
       "}\n",
       "\n",
       "#sk-container-id-4 div.sk-label-container {\n",
       "  text-align: center;\n",
       "}\n",
       "\n",
       "/* Estimator-specific */\n",
       "#sk-container-id-4 div.sk-estimator {\n",
       "  font-family: monospace;\n",
       "  border: 1px dotted var(--sklearn-color-border-box);\n",
       "  border-radius: 0.25em;\n",
       "  box-sizing: border-box;\n",
       "  margin-bottom: 0.5em;\n",
       "  /* unfitted */\n",
       "  background-color: var(--sklearn-color-unfitted-level-0);\n",
       "}\n",
       "\n",
       "#sk-container-id-4 div.sk-estimator.fitted {\n",
       "  /* fitted */\n",
       "  background-color: var(--sklearn-color-fitted-level-0);\n",
       "}\n",
       "\n",
       "/* on hover */\n",
       "#sk-container-id-4 div.sk-estimator:hover {\n",
       "  /* unfitted */\n",
       "  background-color: var(--sklearn-color-unfitted-level-2);\n",
       "}\n",
       "\n",
       "#sk-container-id-4 div.sk-estimator.fitted:hover {\n",
       "  /* fitted */\n",
       "  background-color: var(--sklearn-color-fitted-level-2);\n",
       "}\n",
       "\n",
       "/* Specification for estimator info (e.g. \"i\" and \"?\") */\n",
       "\n",
       "/* Common style for \"i\" and \"?\" */\n",
       "\n",
       ".sk-estimator-doc-link,\n",
       "a:link.sk-estimator-doc-link,\n",
       "a:visited.sk-estimator-doc-link {\n",
       "  float: right;\n",
       "  font-size: smaller;\n",
       "  line-height: 1em;\n",
       "  font-family: monospace;\n",
       "  background-color: var(--sklearn-color-background);\n",
       "  border-radius: 1em;\n",
       "  height: 1em;\n",
       "  width: 1em;\n",
       "  text-decoration: none !important;\n",
       "  margin-left: 0.5em;\n",
       "  text-align: center;\n",
       "  /* unfitted */\n",
       "  border: var(--sklearn-color-unfitted-level-1) 1pt solid;\n",
       "  color: var(--sklearn-color-unfitted-level-1);\n",
       "}\n",
       "\n",
       ".sk-estimator-doc-link.fitted,\n",
       "a:link.sk-estimator-doc-link.fitted,\n",
       "a:visited.sk-estimator-doc-link.fitted {\n",
       "  /* fitted */\n",
       "  border: var(--sklearn-color-fitted-level-1) 1pt solid;\n",
       "  color: var(--sklearn-color-fitted-level-1);\n",
       "}\n",
       "\n",
       "/* On hover */\n",
       "div.sk-estimator:hover .sk-estimator-doc-link:hover,\n",
       ".sk-estimator-doc-link:hover,\n",
       "div.sk-label-container:hover .sk-estimator-doc-link:hover,\n",
       ".sk-estimator-doc-link:hover {\n",
       "  /* unfitted */\n",
       "  background-color: var(--sklearn-color-unfitted-level-3);\n",
       "  color: var(--sklearn-color-background);\n",
       "  text-decoration: none;\n",
       "}\n",
       "\n",
       "div.sk-estimator.fitted:hover .sk-estimator-doc-link.fitted:hover,\n",
       ".sk-estimator-doc-link.fitted:hover,\n",
       "div.sk-label-container:hover .sk-estimator-doc-link.fitted:hover,\n",
       ".sk-estimator-doc-link.fitted:hover {\n",
       "  /* fitted */\n",
       "  background-color: var(--sklearn-color-fitted-level-3);\n",
       "  color: var(--sklearn-color-background);\n",
       "  text-decoration: none;\n",
       "}\n",
       "\n",
       "/* Span, style for the box shown on hovering the info icon */\n",
       ".sk-estimator-doc-link span {\n",
       "  display: none;\n",
       "  z-index: 9999;\n",
       "  position: relative;\n",
       "  font-weight: normal;\n",
       "  right: .2ex;\n",
       "  padding: .5ex;\n",
       "  margin: .5ex;\n",
       "  width: min-content;\n",
       "  min-width: 20ex;\n",
       "  max-width: 50ex;\n",
       "  color: var(--sklearn-color-text);\n",
       "  box-shadow: 2pt 2pt 4pt #999;\n",
       "  /* unfitted */\n",
       "  background: var(--sklearn-color-unfitted-level-0);\n",
       "  border: .5pt solid var(--sklearn-color-unfitted-level-3);\n",
       "}\n",
       "\n",
       ".sk-estimator-doc-link.fitted span {\n",
       "  /* fitted */\n",
       "  background: var(--sklearn-color-fitted-level-0);\n",
       "  border: var(--sklearn-color-fitted-level-3);\n",
       "}\n",
       "\n",
       ".sk-estimator-doc-link:hover span {\n",
       "  display: block;\n",
       "}\n",
       "\n",
       "/* \"?\"-specific style due to the `<a>` HTML tag */\n",
       "\n",
       "#sk-container-id-4 a.estimator_doc_link {\n",
       "  float: right;\n",
       "  font-size: 1rem;\n",
       "  line-height: 1em;\n",
       "  font-family: monospace;\n",
       "  background-color: var(--sklearn-color-background);\n",
       "  border-radius: 1rem;\n",
       "  height: 1rem;\n",
       "  width: 1rem;\n",
       "  text-decoration: none;\n",
       "  /* unfitted */\n",
       "  color: var(--sklearn-color-unfitted-level-1);\n",
       "  border: var(--sklearn-color-unfitted-level-1) 1pt solid;\n",
       "}\n",
       "\n",
       "#sk-container-id-4 a.estimator_doc_link.fitted {\n",
       "  /* fitted */\n",
       "  border: var(--sklearn-color-fitted-level-1) 1pt solid;\n",
       "  color: var(--sklearn-color-fitted-level-1);\n",
       "}\n",
       "\n",
       "/* On hover */\n",
       "#sk-container-id-4 a.estimator_doc_link:hover {\n",
       "  /* unfitted */\n",
       "  background-color: var(--sklearn-color-unfitted-level-3);\n",
       "  color: var(--sklearn-color-background);\n",
       "  text-decoration: none;\n",
       "}\n",
       "\n",
       "#sk-container-id-4 a.estimator_doc_link.fitted:hover {\n",
       "  /* fitted */\n",
       "  background-color: var(--sklearn-color-fitted-level-3);\n",
       "}\n",
       "</style><div id=\"sk-container-id-4\" class=\"sk-top-container\"><div class=\"sk-text-repr-fallback\"><pre>LGBMClassifier(colsample_bytree=0.999347748256048,\n",
       "               learning_rate=0.08022065973945702, max_depth=5,\n",
       "               min_child_samples=65, n_estimators=496, num_leaves=134,\n",
       "               random_state=23, subsample=0.9622881908561005, verbose=-1)</pre><b>In a Jupyter environment, please rerun this cell to show the HTML representation or trust the notebook. <br />On GitHub, the HTML representation is unable to render, please try loading this page with nbviewer.org.</b></div><div class=\"sk-container\" hidden><div class=\"sk-item\"><div class=\"sk-estimator fitted sk-toggleable\"><input class=\"sk-toggleable__control sk-hidden--visually\" id=\"sk-estimator-id-4\" type=\"checkbox\" checked><label for=\"sk-estimator-id-4\" class=\"sk-toggleable__label fitted sk-toggleable__label-arrow\"><div><div>LGBMClassifier</div></div><div><span class=\"sk-estimator-doc-link fitted\">i<span>Fitted</span></span></div></label><div class=\"sk-toggleable__content fitted\"><pre>LGBMClassifier(colsample_bytree=0.999347748256048,\n",
       "               learning_rate=0.08022065973945702, max_depth=5,\n",
       "               min_child_samples=65, n_estimators=496, num_leaves=134,\n",
       "               random_state=23, subsample=0.9622881908561005, verbose=-1)</pre></div> </div></div></div></div>"
      ],
      "text/plain": [
       "LGBMClassifier(colsample_bytree=0.999347748256048,\n",
       "               learning_rate=0.08022065973945702, max_depth=5,\n",
       "               min_child_samples=65, n_estimators=496, num_leaves=134,\n",
       "               random_state=23, subsample=0.9622881908561005, verbose=-1)"
      ]
     },
     "execution_count": 60,
     "metadata": {},
     "output_type": "execute_result"
    }
   ],
   "source": [
    "model.fit(df_train[FEATURES], df_train[TARGET])"
   ]
  },
  {
   "cell_type": "markdown",
   "metadata": {},
   "source": [
    "## Evaluate"
   ]
  },
  {
   "cell_type": "code",
   "execution_count": 61,
   "metadata": {},
   "outputs": [],
   "source": [
    "df_train[\"pred\"] = model.predict_proba(df_train[FEATURES])[:, 1]\n",
    "df_test[\"pred\"] = model.predict_proba(df_test[FEATURES])[:, 1]"
   ]
  },
  {
   "cell_type": "code",
   "execution_count": 62,
   "metadata": {},
   "outputs": [
    {
     "data": {
      "text/plain": [
       "(np.float64(0.9717120312966216), np.float64(0.8512228260869565))"
      ]
     },
     "execution_count": 62,
     "metadata": {},
     "output_type": "execute_result"
    }
   ],
   "source": [
    "roc_auc_score(df_train[TARGET], df_train[\"pred\"]), roc_auc_score(df_test[TARGET], df_test[\"pred\"])"
   ]
  },
  {
   "cell_type": "code",
   "execution_count": null,
   "metadata": {},
   "outputs": [],
   "source": []
  }
 ],
 "metadata": {
  "kernelspec": {
   "display_name": "ds-for-beginners",
   "language": "python",
   "name": "python3"
  },
  "language_info": {
   "codemirror_mode": {
    "name": "ipython",
    "version": 3
   },
   "file_extension": ".py",
   "mimetype": "text/x-python",
   "name": "python",
   "nbconvert_exporter": "python",
   "pygments_lexer": "ipython3",
   "version": "3.11.11"
  }
 },
 "nbformat": 4,
 "nbformat_minor": 2
}
